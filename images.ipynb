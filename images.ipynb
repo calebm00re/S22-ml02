{
 "cells": [
  {
   "attachments": {},
   "cell_type": "markdown",
   "id": "24752109",
   "metadata": {},
   "source": [
    "# Lab One Cars! 🏎️\n",
    "## Caleb Moore, Christian Gould, and Blake Gebhardt\n",
    "\n",
    "Data Source: https://www.kaggle.com/datasets/chetankv/dogs-cats-images"
   ]
  },
  {
   "cell_type": "code",
   "execution_count": 7,
   "id": "f8d7f632",
   "metadata": {},
   "outputs": [
    {
     "ename": "URLError",
     "evalue": "<urlopen error [SSL: CERTIFICATE_VERIFY_FAILED] certificate verify failed: unable to get local issuer certificate (_ssl.c:997)>",
     "output_type": "error",
     "traceback": [
      "\u001b[0;31m---------------------------------------------------------------------------\u001b[0m",
      "\u001b[0;31mSSLCertVerificationError\u001b[0m                  Traceback (most recent call last)",
      "File \u001b[0;32m/Library/Frameworks/Python.framework/Versions/3.10/lib/python3.10/urllib/request.py:1348\u001b[0m, in \u001b[0;36mAbstractHTTPHandler.do_open\u001b[0;34m(self, http_class, req, **http_conn_args)\u001b[0m\n\u001b[1;32m   1347\u001b[0m \u001b[39mtry\u001b[39;00m:\n\u001b[0;32m-> 1348\u001b[0m     h\u001b[39m.\u001b[39;49mrequest(req\u001b[39m.\u001b[39;49mget_method(), req\u001b[39m.\u001b[39;49mselector, req\u001b[39m.\u001b[39;49mdata, headers,\n\u001b[1;32m   1349\u001b[0m               encode_chunked\u001b[39m=\u001b[39;49mreq\u001b[39m.\u001b[39;49mhas_header(\u001b[39m'\u001b[39;49m\u001b[39mTransfer-encoding\u001b[39;49m\u001b[39m'\u001b[39;49m))\n\u001b[1;32m   1350\u001b[0m \u001b[39mexcept\u001b[39;00m \u001b[39mOSError\u001b[39;00m \u001b[39mas\u001b[39;00m err: \u001b[39m# timeout error\u001b[39;00m\n",
      "File \u001b[0;32m/Library/Frameworks/Python.framework/Versions/3.10/lib/python3.10/http/client.py:1282\u001b[0m, in \u001b[0;36mHTTPConnection.request\u001b[0;34m(self, method, url, body, headers, encode_chunked)\u001b[0m\n\u001b[1;32m   1281\u001b[0m \u001b[39m\u001b[39m\u001b[39m\"\"\"Send a complete request to the server.\"\"\"\u001b[39;00m\n\u001b[0;32m-> 1282\u001b[0m \u001b[39mself\u001b[39;49m\u001b[39m.\u001b[39;49m_send_request(method, url, body, headers, encode_chunked)\n",
      "File \u001b[0;32m/Library/Frameworks/Python.framework/Versions/3.10/lib/python3.10/http/client.py:1328\u001b[0m, in \u001b[0;36mHTTPConnection._send_request\u001b[0;34m(self, method, url, body, headers, encode_chunked)\u001b[0m\n\u001b[1;32m   1327\u001b[0m     body \u001b[39m=\u001b[39m _encode(body, \u001b[39m'\u001b[39m\u001b[39mbody\u001b[39m\u001b[39m'\u001b[39m)\n\u001b[0;32m-> 1328\u001b[0m \u001b[39mself\u001b[39;49m\u001b[39m.\u001b[39;49mendheaders(body, encode_chunked\u001b[39m=\u001b[39;49mencode_chunked)\n",
      "File \u001b[0;32m/Library/Frameworks/Python.framework/Versions/3.10/lib/python3.10/http/client.py:1277\u001b[0m, in \u001b[0;36mHTTPConnection.endheaders\u001b[0;34m(self, message_body, encode_chunked)\u001b[0m\n\u001b[1;32m   1276\u001b[0m     \u001b[39mraise\u001b[39;00m CannotSendHeader()\n\u001b[0;32m-> 1277\u001b[0m \u001b[39mself\u001b[39;49m\u001b[39m.\u001b[39;49m_send_output(message_body, encode_chunked\u001b[39m=\u001b[39;49mencode_chunked)\n",
      "File \u001b[0;32m/Library/Frameworks/Python.framework/Versions/3.10/lib/python3.10/http/client.py:1037\u001b[0m, in \u001b[0;36mHTTPConnection._send_output\u001b[0;34m(self, message_body, encode_chunked)\u001b[0m\n\u001b[1;32m   1036\u001b[0m \u001b[39mdel\u001b[39;00m \u001b[39mself\u001b[39m\u001b[39m.\u001b[39m_buffer[:]\n\u001b[0;32m-> 1037\u001b[0m \u001b[39mself\u001b[39;49m\u001b[39m.\u001b[39;49msend(msg)\n\u001b[1;32m   1039\u001b[0m \u001b[39mif\u001b[39;00m message_body \u001b[39mis\u001b[39;00m \u001b[39mnot\u001b[39;00m \u001b[39mNone\u001b[39;00m:\n\u001b[1;32m   1040\u001b[0m \n\u001b[1;32m   1041\u001b[0m     \u001b[39m# create a consistent interface to message_body\u001b[39;00m\n",
      "File \u001b[0;32m/Library/Frameworks/Python.framework/Versions/3.10/lib/python3.10/http/client.py:975\u001b[0m, in \u001b[0;36mHTTPConnection.send\u001b[0;34m(self, data)\u001b[0m\n\u001b[1;32m    974\u001b[0m \u001b[39mif\u001b[39;00m \u001b[39mself\u001b[39m\u001b[39m.\u001b[39mauto_open:\n\u001b[0;32m--> 975\u001b[0m     \u001b[39mself\u001b[39;49m\u001b[39m.\u001b[39;49mconnect()\n\u001b[1;32m    976\u001b[0m \u001b[39melse\u001b[39;00m:\n",
      "File \u001b[0;32m/Library/Frameworks/Python.framework/Versions/3.10/lib/python3.10/http/client.py:1454\u001b[0m, in \u001b[0;36mHTTPSConnection.connect\u001b[0;34m(self)\u001b[0m\n\u001b[1;32m   1452\u001b[0m     server_hostname \u001b[39m=\u001b[39m \u001b[39mself\u001b[39m\u001b[39m.\u001b[39mhost\n\u001b[0;32m-> 1454\u001b[0m \u001b[39mself\u001b[39m\u001b[39m.\u001b[39msock \u001b[39m=\u001b[39m \u001b[39mself\u001b[39;49m\u001b[39m.\u001b[39;49m_context\u001b[39m.\u001b[39;49mwrap_socket(\u001b[39mself\u001b[39;49m\u001b[39m.\u001b[39;49msock,\n\u001b[1;32m   1455\u001b[0m                                       server_hostname\u001b[39m=\u001b[39;49mserver_hostname)\n",
      "File \u001b[0;32m/Library/Frameworks/Python.framework/Versions/3.10/lib/python3.10/ssl.py:513\u001b[0m, in \u001b[0;36mSSLContext.wrap_socket\u001b[0;34m(self, sock, server_side, do_handshake_on_connect, suppress_ragged_eofs, server_hostname, session)\u001b[0m\n\u001b[1;32m    507\u001b[0m \u001b[39mdef\u001b[39;00m \u001b[39mwrap_socket\u001b[39m(\u001b[39mself\u001b[39m, sock, server_side\u001b[39m=\u001b[39m\u001b[39mFalse\u001b[39;00m,\n\u001b[1;32m    508\u001b[0m                 do_handshake_on_connect\u001b[39m=\u001b[39m\u001b[39mTrue\u001b[39;00m,\n\u001b[1;32m    509\u001b[0m                 suppress_ragged_eofs\u001b[39m=\u001b[39m\u001b[39mTrue\u001b[39;00m,\n\u001b[1;32m    510\u001b[0m                 server_hostname\u001b[39m=\u001b[39m\u001b[39mNone\u001b[39;00m, session\u001b[39m=\u001b[39m\u001b[39mNone\u001b[39;00m):\n\u001b[1;32m    511\u001b[0m     \u001b[39m# SSLSocket class handles server_hostname encoding before it calls\u001b[39;00m\n\u001b[1;32m    512\u001b[0m     \u001b[39m# ctx._wrap_socket()\u001b[39;00m\n\u001b[0;32m--> 513\u001b[0m     \u001b[39mreturn\u001b[39;00m \u001b[39mself\u001b[39;49m\u001b[39m.\u001b[39;49msslsocket_class\u001b[39m.\u001b[39;49m_create(\n\u001b[1;32m    514\u001b[0m         sock\u001b[39m=\u001b[39;49msock,\n\u001b[1;32m    515\u001b[0m         server_side\u001b[39m=\u001b[39;49mserver_side,\n\u001b[1;32m    516\u001b[0m         do_handshake_on_connect\u001b[39m=\u001b[39;49mdo_handshake_on_connect,\n\u001b[1;32m    517\u001b[0m         suppress_ragged_eofs\u001b[39m=\u001b[39;49msuppress_ragged_eofs,\n\u001b[1;32m    518\u001b[0m         server_hostname\u001b[39m=\u001b[39;49mserver_hostname,\n\u001b[1;32m    519\u001b[0m         context\u001b[39m=\u001b[39;49m\u001b[39mself\u001b[39;49m,\n\u001b[1;32m    520\u001b[0m         session\u001b[39m=\u001b[39;49msession\n\u001b[1;32m    521\u001b[0m     )\n",
      "File \u001b[0;32m/Library/Frameworks/Python.framework/Versions/3.10/lib/python3.10/ssl.py:1071\u001b[0m, in \u001b[0;36mSSLSocket._create\u001b[0;34m(cls, sock, server_side, do_handshake_on_connect, suppress_ragged_eofs, server_hostname, context, session)\u001b[0m\n\u001b[1;32m   1070\u001b[0m             \u001b[39mraise\u001b[39;00m \u001b[39mValueError\u001b[39;00m(\u001b[39m\"\u001b[39m\u001b[39mdo_handshake_on_connect should not be specified for non-blocking sockets\u001b[39m\u001b[39m\"\u001b[39m)\n\u001b[0;32m-> 1071\u001b[0m         \u001b[39mself\u001b[39;49m\u001b[39m.\u001b[39;49mdo_handshake()\n\u001b[1;32m   1072\u001b[0m \u001b[39mexcept\u001b[39;00m (\u001b[39mOSError\u001b[39;00m, \u001b[39mValueError\u001b[39;00m):\n",
      "File \u001b[0;32m/Library/Frameworks/Python.framework/Versions/3.10/lib/python3.10/ssl.py:1342\u001b[0m, in \u001b[0;36mSSLSocket.do_handshake\u001b[0;34m(self, block)\u001b[0m\n\u001b[1;32m   1341\u001b[0m         \u001b[39mself\u001b[39m\u001b[39m.\u001b[39msettimeout(\u001b[39mNone\u001b[39;00m)\n\u001b[0;32m-> 1342\u001b[0m     \u001b[39mself\u001b[39;49m\u001b[39m.\u001b[39;49m_sslobj\u001b[39m.\u001b[39;49mdo_handshake()\n\u001b[1;32m   1343\u001b[0m \u001b[39mfinally\u001b[39;00m:\n",
      "\u001b[0;31mSSLCertVerificationError\u001b[0m: [SSL: CERTIFICATE_VERIFY_FAILED] certificate verify failed: unable to get local issuer certificate (_ssl.c:997)",
      "\nDuring handling of the above exception, another exception occurred:\n",
      "\u001b[0;31mURLError\u001b[0m                                  Traceback (most recent call last)",
      "Cell \u001b[0;32mIn[7], line 5\u001b[0m\n\u001b[1;32m      2\u001b[0m \u001b[39mimport\u001b[39;00m \u001b[39mpandas\u001b[39;00m \u001b[39mas\u001b[39;00m \u001b[39mpd\u001b[39;00m\n\u001b[1;32m      3\u001b[0m \u001b[39mfrom\u001b[39;00m \u001b[39msklearn\u001b[39;00m\u001b[39m.\u001b[39;00m\u001b[39mdatasets\u001b[39;00m \u001b[39mimport\u001b[39;00m fetch_lfw_people\n\u001b[0;32m----> 5\u001b[0m lfw_people \u001b[39m=\u001b[39m fetch_lfw_people(min_faces_per_person\u001b[39m=\u001b[39;49m\u001b[39m2\u001b[39;49m, resize\u001b[39m=\u001b[39;49m\u001b[39mNone\u001b[39;49;00m)\n\u001b[1;32m      6\u001b[0m \u001b[39m# type(lfw_people)\u001b[39;00m\n",
      "File \u001b[0;32m~/Code/mlenv/lib/python3.10/site-packages/sklearn/datasets/_lfw.py:328\u001b[0m, in \u001b[0;36mfetch_lfw_people\u001b[0;34m(data_home, funneled, resize, min_faces_per_person, color, slice_, download_if_missing, return_X_y)\u001b[0m\n\u001b[1;32m    234\u001b[0m \u001b[39mdef\u001b[39;00m \u001b[39mfetch_lfw_people\u001b[39m(\n\u001b[1;32m    235\u001b[0m     \u001b[39m*\u001b[39m,\n\u001b[1;32m    236\u001b[0m     data_home\u001b[39m=\u001b[39m\u001b[39mNone\u001b[39;00m,\n\u001b[0;32m   (...)\u001b[0m\n\u001b[1;32m    243\u001b[0m     return_X_y\u001b[39m=\u001b[39m\u001b[39mFalse\u001b[39;00m,\n\u001b[1;32m    244\u001b[0m ):\n\u001b[1;32m    245\u001b[0m \u001b[39m    \u001b[39m\u001b[39m\"\"\"Load the Labeled Faces in the Wild (LFW) people dataset \\\u001b[39;00m\n\u001b[1;32m    246\u001b[0m \u001b[39m(classification).\u001b[39;00m\n\u001b[1;32m    247\u001b[0m \n\u001b[0;32m   (...)\u001b[0m\n\u001b[1;32m    326\u001b[0m \u001b[39m        .. versionadded:: 0.20\u001b[39;00m\n\u001b[1;32m    327\u001b[0m \u001b[39m    \"\"\"\u001b[39;00m\n\u001b[0;32m--> 328\u001b[0m     lfw_home, data_folder_path \u001b[39m=\u001b[39m _check_fetch_lfw(\n\u001b[1;32m    329\u001b[0m         data_home\u001b[39m=\u001b[39;49mdata_home, funneled\u001b[39m=\u001b[39;49mfunneled, download_if_missing\u001b[39m=\u001b[39;49mdownload_if_missing\n\u001b[1;32m    330\u001b[0m     )\n\u001b[1;32m    331\u001b[0m     logger\u001b[39m.\u001b[39mdebug(\u001b[39m\"\u001b[39m\u001b[39mLoading LFW people faces from \u001b[39m\u001b[39m%s\u001b[39;00m\u001b[39m\"\u001b[39m, lfw_home)\n\u001b[1;32m    333\u001b[0m     \u001b[39m# wrap the loader in a memoizing function that will return memmaped data\u001b[39;00m\n\u001b[1;32m    334\u001b[0m     \u001b[39m# arrays for optimal memory usage\u001b[39;00m\n",
      "File \u001b[0;32m~/Code/mlenv/lib/python3.10/site-packages/sklearn/datasets/_lfw.py:88\u001b[0m, in \u001b[0;36m_check_fetch_lfw\u001b[0;34m(data_home, funneled, download_if_missing)\u001b[0m\n\u001b[1;32m     86\u001b[0m \u001b[39mif\u001b[39;00m download_if_missing:\n\u001b[1;32m     87\u001b[0m     logger\u001b[39m.\u001b[39minfo(\u001b[39m\"\u001b[39m\u001b[39mDownloading LFW metadata: \u001b[39m\u001b[39m%s\u001b[39;00m\u001b[39m\"\u001b[39m, target\u001b[39m.\u001b[39murl)\n\u001b[0;32m---> 88\u001b[0m     _fetch_remote(target, dirname\u001b[39m=\u001b[39;49mlfw_home)\n\u001b[1;32m     89\u001b[0m \u001b[39melse\u001b[39;00m:\n\u001b[1;32m     90\u001b[0m     \u001b[39mraise\u001b[39;00m \u001b[39mIOError\u001b[39;00m(\u001b[39m\"\u001b[39m\u001b[39m%s\u001b[39;00m\u001b[39m is missing\u001b[39m\u001b[39m\"\u001b[39m \u001b[39m%\u001b[39m target_filepath)\n",
      "File \u001b[0;32m~/Code/mlenv/lib/python3.10/site-packages/sklearn/datasets/_base.py:1324\u001b[0m, in \u001b[0;36m_fetch_remote\u001b[0;34m(remote, dirname)\u001b[0m\n\u001b[1;32m   1302\u001b[0m \u001b[39m\u001b[39m\u001b[39m\"\"\"Helper function to download a remote dataset into path\u001b[39;00m\n\u001b[1;32m   1303\u001b[0m \n\u001b[1;32m   1304\u001b[0m \u001b[39mFetch a dataset pointed by remote's url, save into path using remote's\u001b[39;00m\n\u001b[0;32m   (...)\u001b[0m\n\u001b[1;32m   1320\u001b[0m \u001b[39m    Full path of the created file.\u001b[39;00m\n\u001b[1;32m   1321\u001b[0m \u001b[39m\"\"\"\u001b[39;00m\n\u001b[1;32m   1323\u001b[0m file_path \u001b[39m=\u001b[39m remote\u001b[39m.\u001b[39mfilename \u001b[39mif\u001b[39;00m dirname \u001b[39mis\u001b[39;00m \u001b[39mNone\u001b[39;00m \u001b[39melse\u001b[39;00m join(dirname, remote\u001b[39m.\u001b[39mfilename)\n\u001b[0;32m-> 1324\u001b[0m urlretrieve(remote\u001b[39m.\u001b[39;49murl, file_path)\n\u001b[1;32m   1325\u001b[0m checksum \u001b[39m=\u001b[39m _sha256(file_path)\n\u001b[1;32m   1326\u001b[0m \u001b[39mif\u001b[39;00m remote\u001b[39m.\u001b[39mchecksum \u001b[39m!=\u001b[39m checksum:\n",
      "File \u001b[0;32m/Library/Frameworks/Python.framework/Versions/3.10/lib/python3.10/urllib/request.py:241\u001b[0m, in \u001b[0;36murlretrieve\u001b[0;34m(url, filename, reporthook, data)\u001b[0m\n\u001b[1;32m    224\u001b[0m \u001b[39m\u001b[39m\u001b[39m\"\"\"\u001b[39;00m\n\u001b[1;32m    225\u001b[0m \u001b[39mRetrieve a URL into a temporary location on disk.\u001b[39;00m\n\u001b[1;32m    226\u001b[0m \n\u001b[0;32m   (...)\u001b[0m\n\u001b[1;32m    237\u001b[0m \u001b[39mdata file as well as the resulting HTTPMessage object.\u001b[39;00m\n\u001b[1;32m    238\u001b[0m \u001b[39m\"\"\"\u001b[39;00m\n\u001b[1;32m    239\u001b[0m url_type, path \u001b[39m=\u001b[39m _splittype(url)\n\u001b[0;32m--> 241\u001b[0m \u001b[39mwith\u001b[39;00m contextlib\u001b[39m.\u001b[39mclosing(urlopen(url, data)) \u001b[39mas\u001b[39;00m fp:\n\u001b[1;32m    242\u001b[0m     headers \u001b[39m=\u001b[39m fp\u001b[39m.\u001b[39minfo()\n\u001b[1;32m    244\u001b[0m     \u001b[39m# Just return the local path and the \"headers\" for file://\u001b[39;00m\n\u001b[1;32m    245\u001b[0m     \u001b[39m# URLs. No sense in performing a copy unless requested.\u001b[39;00m\n",
      "File \u001b[0;32m/Library/Frameworks/Python.framework/Versions/3.10/lib/python3.10/urllib/request.py:216\u001b[0m, in \u001b[0;36murlopen\u001b[0;34m(url, data, timeout, cafile, capath, cadefault, context)\u001b[0m\n\u001b[1;32m    214\u001b[0m \u001b[39melse\u001b[39;00m:\n\u001b[1;32m    215\u001b[0m     opener \u001b[39m=\u001b[39m _opener\n\u001b[0;32m--> 216\u001b[0m \u001b[39mreturn\u001b[39;00m opener\u001b[39m.\u001b[39;49mopen(url, data, timeout)\n",
      "File \u001b[0;32m/Library/Frameworks/Python.framework/Versions/3.10/lib/python3.10/urllib/request.py:519\u001b[0m, in \u001b[0;36mOpenerDirector.open\u001b[0;34m(self, fullurl, data, timeout)\u001b[0m\n\u001b[1;32m    516\u001b[0m     req \u001b[39m=\u001b[39m meth(req)\n\u001b[1;32m    518\u001b[0m sys\u001b[39m.\u001b[39maudit(\u001b[39m'\u001b[39m\u001b[39murllib.Request\u001b[39m\u001b[39m'\u001b[39m, req\u001b[39m.\u001b[39mfull_url, req\u001b[39m.\u001b[39mdata, req\u001b[39m.\u001b[39mheaders, req\u001b[39m.\u001b[39mget_method())\n\u001b[0;32m--> 519\u001b[0m response \u001b[39m=\u001b[39m \u001b[39mself\u001b[39;49m\u001b[39m.\u001b[39;49m_open(req, data)\n\u001b[1;32m    521\u001b[0m \u001b[39m# post-process response\u001b[39;00m\n\u001b[1;32m    522\u001b[0m meth_name \u001b[39m=\u001b[39m protocol\u001b[39m+\u001b[39m\u001b[39m\"\u001b[39m\u001b[39m_response\u001b[39m\u001b[39m\"\u001b[39m\n",
      "File \u001b[0;32m/Library/Frameworks/Python.framework/Versions/3.10/lib/python3.10/urllib/request.py:536\u001b[0m, in \u001b[0;36mOpenerDirector._open\u001b[0;34m(self, req, data)\u001b[0m\n\u001b[1;32m    533\u001b[0m     \u001b[39mreturn\u001b[39;00m result\n\u001b[1;32m    535\u001b[0m protocol \u001b[39m=\u001b[39m req\u001b[39m.\u001b[39mtype\n\u001b[0;32m--> 536\u001b[0m result \u001b[39m=\u001b[39m \u001b[39mself\u001b[39;49m\u001b[39m.\u001b[39;49m_call_chain(\u001b[39mself\u001b[39;49m\u001b[39m.\u001b[39;49mhandle_open, protocol, protocol \u001b[39m+\u001b[39;49m\n\u001b[1;32m    537\u001b[0m                           \u001b[39m'\u001b[39;49m\u001b[39m_open\u001b[39;49m\u001b[39m'\u001b[39;49m, req)\n\u001b[1;32m    538\u001b[0m \u001b[39mif\u001b[39;00m result:\n\u001b[1;32m    539\u001b[0m     \u001b[39mreturn\u001b[39;00m result\n",
      "File \u001b[0;32m/Library/Frameworks/Python.framework/Versions/3.10/lib/python3.10/urllib/request.py:496\u001b[0m, in \u001b[0;36mOpenerDirector._call_chain\u001b[0;34m(self, chain, kind, meth_name, *args)\u001b[0m\n\u001b[1;32m    494\u001b[0m \u001b[39mfor\u001b[39;00m handler \u001b[39min\u001b[39;00m handlers:\n\u001b[1;32m    495\u001b[0m     func \u001b[39m=\u001b[39m \u001b[39mgetattr\u001b[39m(handler, meth_name)\n\u001b[0;32m--> 496\u001b[0m     result \u001b[39m=\u001b[39m func(\u001b[39m*\u001b[39;49margs)\n\u001b[1;32m    497\u001b[0m     \u001b[39mif\u001b[39;00m result \u001b[39mis\u001b[39;00m \u001b[39mnot\u001b[39;00m \u001b[39mNone\u001b[39;00m:\n\u001b[1;32m    498\u001b[0m         \u001b[39mreturn\u001b[39;00m result\n",
      "File \u001b[0;32m/Library/Frameworks/Python.framework/Versions/3.10/lib/python3.10/urllib/request.py:1391\u001b[0m, in \u001b[0;36mHTTPSHandler.https_open\u001b[0;34m(self, req)\u001b[0m\n\u001b[1;32m   1390\u001b[0m \u001b[39mdef\u001b[39;00m \u001b[39mhttps_open\u001b[39m(\u001b[39mself\u001b[39m, req):\n\u001b[0;32m-> 1391\u001b[0m     \u001b[39mreturn\u001b[39;00m \u001b[39mself\u001b[39;49m\u001b[39m.\u001b[39;49mdo_open(http\u001b[39m.\u001b[39;49mclient\u001b[39m.\u001b[39;49mHTTPSConnection, req,\n\u001b[1;32m   1392\u001b[0m         context\u001b[39m=\u001b[39;49m\u001b[39mself\u001b[39;49m\u001b[39m.\u001b[39;49m_context, check_hostname\u001b[39m=\u001b[39;49m\u001b[39mself\u001b[39;49m\u001b[39m.\u001b[39;49m_check_hostname)\n",
      "File \u001b[0;32m/Library/Frameworks/Python.framework/Versions/3.10/lib/python3.10/urllib/request.py:1351\u001b[0m, in \u001b[0;36mAbstractHTTPHandler.do_open\u001b[0;34m(self, http_class, req, **http_conn_args)\u001b[0m\n\u001b[1;32m   1348\u001b[0m         h\u001b[39m.\u001b[39mrequest(req\u001b[39m.\u001b[39mget_method(), req\u001b[39m.\u001b[39mselector, req\u001b[39m.\u001b[39mdata, headers,\n\u001b[1;32m   1349\u001b[0m                   encode_chunked\u001b[39m=\u001b[39mreq\u001b[39m.\u001b[39mhas_header(\u001b[39m'\u001b[39m\u001b[39mTransfer-encoding\u001b[39m\u001b[39m'\u001b[39m))\n\u001b[1;32m   1350\u001b[0m     \u001b[39mexcept\u001b[39;00m \u001b[39mOSError\u001b[39;00m \u001b[39mas\u001b[39;00m err: \u001b[39m# timeout error\u001b[39;00m\n\u001b[0;32m-> 1351\u001b[0m         \u001b[39mraise\u001b[39;00m URLError(err)\n\u001b[1;32m   1352\u001b[0m     r \u001b[39m=\u001b[39m h\u001b[39m.\u001b[39mgetresponse()\n\u001b[1;32m   1353\u001b[0m \u001b[39mexcept\u001b[39;00m:\n",
      "\u001b[0;31mURLError\u001b[0m: <urlopen error [SSL: CERTIFICATE_VERIFY_FAILED] certificate verify failed: unable to get local issuer certificate (_ssl.c:997)>"
     ]
    }
   ],
   "source": [
    "# top cell for imports\n",
    "import pandas as pd\n",
    "from sklearn.datasets import fetch_lfw_people\n",
    "\n",
    "lfw_people = fetch_lfw_people(min_faces_per_person=2, resize=None)\n",
    "# type(lfw_people)"
   ]
  },
  {
   "cell_type": "code",
   "execution_count": 20,
   "id": "a46d7e70",
   "metadata": {},
   "outputs": [
    {
     "data": {
      "text/html": [
       "<script>\n",
       "code_show_err=false; \n",
       "function code_toggle_err() {\n",
       " if (code_show_err){\n",
       " $('div.output_stderr').hide();\n",
       " } else {\n",
       " $('div.output_stderr').show();\n",
       " }\n",
       " code_show_err = !code_show_err\n",
       "} \n",
       "$( document ).ready(code_toggle_err);\n",
       "</script>\n",
       "To toggle on/off output_stderr, click <a href=\"javascript:code_toggle_err()\">here</a>."
      ],
      "text/plain": [
       "<IPython.core.display.HTML object>"
      ]
     },
     "execution_count": 20,
     "metadata": {},
     "output_type": "execute_result"
    }
   ],
   "source": [
    "# Notebook setup\n",
    "from IPython.display import HTML\n",
    "HTML('''<script>\n",
    "code_show_err=false; \n",
    "function code_toggle_err() {\n",
    " if (code_show_err){\n",
    " $('div.output_stderr').hide();\n",
    " } else {\n",
    " $('div.output_stderr').show();\n",
    " }\n",
    " code_show_err = !code_show_err\n",
    "} \n",
    "$( document ).ready(code_toggle_err);\n",
    "</script>\n",
    "To toggle on/off output_stderr, click <a href=\"javascript:code_toggle_err()\">here</a>.''')"
   ]
  },
  {
   "attachments": {},
   "cell_type": "markdown",
   "id": "26752583",
   "metadata": {},
   "source": [
    "# 💰 Business Understanding (2 points total).\n",
    "### Give an overview of the dataset. Describe the purpose of the data set you selected (i.e., why was this data collected in the first place?). What is the prediction task for your dataset and which third parties would be interested in the results? Why is this data important? Once you begin modeling, how well would your prediction algorithm need to perform to be considered useful to the identified third parties? Be specific and use your own words to describe the aspects of the data. "
   ]
  },
  {
   "cell_type": "code",
   "execution_count": null,
   "id": "12330818",
   "metadata": {},
   "outputs": [],
   "source": []
  },
  {
   "attachments": {},
   "cell_type": "markdown",
   "id": "5db44459",
   "metadata": {},
   "source": [
    "# 📊 Data Understanding [3 points total]\n",
    "### [1.5 points] Load the dataset and appropriately define data types. What data type should be used to represent each data attribute? Discuss the attributes collected in the dataset. For datasets with a large number of attributes, only discuss a subset of relevant attributes.  "
   ]
  },
  {
   "cell_type": "code",
   "execution_count": 21,
   "id": "cc995e32",
   "metadata": {},
   "outputs": [
    {
     "data": {
      "text/html": [
       "<div>\n",
       "<style scoped>\n",
       "    .dataframe tbody tr th:only-of-type {\n",
       "        vertical-align: middle;\n",
       "    }\n",
       "\n",
       "    .dataframe tbody tr th {\n",
       "        vertical-align: top;\n",
       "    }\n",
       "\n",
       "    .dataframe thead th {\n",
       "        text-align: right;\n",
       "    }\n",
       "</style>\n",
       "<table border=\"1\" class=\"dataframe\">\n",
       "  <thead>\n",
       "    <tr style=\"text-align: right;\">\n",
       "      <th></th>\n",
       "      <th>ID</th>\n",
       "      <th>Price</th>\n",
       "      <th>Levy</th>\n",
       "      <th>Manufacturer</th>\n",
       "      <th>Model</th>\n",
       "      <th>Prod. year</th>\n",
       "      <th>Category</th>\n",
       "      <th>Leather interior</th>\n",
       "      <th>Fuel type</th>\n",
       "      <th>Engine volume</th>\n",
       "      <th>Mileage</th>\n",
       "      <th>Cylinders</th>\n",
       "      <th>Gear box type</th>\n",
       "      <th>Drive wheels</th>\n",
       "      <th>Doors</th>\n",
       "      <th>Wheel</th>\n",
       "      <th>Color</th>\n",
       "      <th>Airbags</th>\n",
       "    </tr>\n",
       "  </thead>\n",
       "  <tbody>\n",
       "    <tr>\n",
       "      <th>0</th>\n",
       "      <td>45654403</td>\n",
       "      <td>13328</td>\n",
       "      <td>1399</td>\n",
       "      <td>LEXUS</td>\n",
       "      <td>RX 450</td>\n",
       "      <td>2010</td>\n",
       "      <td>Jeep</td>\n",
       "      <td>Yes</td>\n",
       "      <td>Hybrid</td>\n",
       "      <td>3.5</td>\n",
       "      <td>186005 km</td>\n",
       "      <td>6.0</td>\n",
       "      <td>Automatic</td>\n",
       "      <td>4x4</td>\n",
       "      <td>04-May</td>\n",
       "      <td>Left wheel</td>\n",
       "      <td>Silver</td>\n",
       "      <td>12</td>\n",
       "    </tr>\n",
       "    <tr>\n",
       "      <th>1</th>\n",
       "      <td>44731507</td>\n",
       "      <td>16621</td>\n",
       "      <td>1018</td>\n",
       "      <td>CHEVROLET</td>\n",
       "      <td>Equinox</td>\n",
       "      <td>2011</td>\n",
       "      <td>Jeep</td>\n",
       "      <td>No</td>\n",
       "      <td>Petrol</td>\n",
       "      <td>3</td>\n",
       "      <td>192000 km</td>\n",
       "      <td>6.0</td>\n",
       "      <td>Tiptronic</td>\n",
       "      <td>4x4</td>\n",
       "      <td>04-May</td>\n",
       "      <td>Left wheel</td>\n",
       "      <td>Black</td>\n",
       "      <td>8</td>\n",
       "    </tr>\n",
       "    <tr>\n",
       "      <th>2</th>\n",
       "      <td>45774419</td>\n",
       "      <td>8467</td>\n",
       "      <td>-</td>\n",
       "      <td>HONDA</td>\n",
       "      <td>FIT</td>\n",
       "      <td>2006</td>\n",
       "      <td>Hatchback</td>\n",
       "      <td>No</td>\n",
       "      <td>Petrol</td>\n",
       "      <td>1.3</td>\n",
       "      <td>200000 km</td>\n",
       "      <td>4.0</td>\n",
       "      <td>Variator</td>\n",
       "      <td>Front</td>\n",
       "      <td>04-May</td>\n",
       "      <td>Right-hand drive</td>\n",
       "      <td>Black</td>\n",
       "      <td>2</td>\n",
       "    </tr>\n",
       "    <tr>\n",
       "      <th>3</th>\n",
       "      <td>45769185</td>\n",
       "      <td>3607</td>\n",
       "      <td>862</td>\n",
       "      <td>FORD</td>\n",
       "      <td>Escape</td>\n",
       "      <td>2011</td>\n",
       "      <td>Jeep</td>\n",
       "      <td>Yes</td>\n",
       "      <td>Hybrid</td>\n",
       "      <td>2.5</td>\n",
       "      <td>168966 km</td>\n",
       "      <td>4.0</td>\n",
       "      <td>Automatic</td>\n",
       "      <td>4x4</td>\n",
       "      <td>04-May</td>\n",
       "      <td>Left wheel</td>\n",
       "      <td>White</td>\n",
       "      <td>0</td>\n",
       "    </tr>\n",
       "    <tr>\n",
       "      <th>4</th>\n",
       "      <td>45809263</td>\n",
       "      <td>11726</td>\n",
       "      <td>446</td>\n",
       "      <td>HONDA</td>\n",
       "      <td>FIT</td>\n",
       "      <td>2014</td>\n",
       "      <td>Hatchback</td>\n",
       "      <td>Yes</td>\n",
       "      <td>Petrol</td>\n",
       "      <td>1.3</td>\n",
       "      <td>91901 km</td>\n",
       "      <td>4.0</td>\n",
       "      <td>Automatic</td>\n",
       "      <td>Front</td>\n",
       "      <td>04-May</td>\n",
       "      <td>Left wheel</td>\n",
       "      <td>Silver</td>\n",
       "      <td>4</td>\n",
       "    </tr>\n",
       "  </tbody>\n",
       "</table>\n",
       "</div>"
      ],
      "text/plain": [
       "         ID  Price  Levy Manufacturer    Model  Prod. year   Category  \\\n",
       "0  45654403  13328  1399        LEXUS   RX 450        2010       Jeep   \n",
       "1  44731507  16621  1018    CHEVROLET  Equinox        2011       Jeep   \n",
       "2  45774419   8467     -        HONDA      FIT        2006  Hatchback   \n",
       "3  45769185   3607   862         FORD   Escape        2011       Jeep   \n",
       "4  45809263  11726   446        HONDA      FIT        2014  Hatchback   \n",
       "\n",
       "  Leather interior Fuel type Engine volume    Mileage  Cylinders  \\\n",
       "0              Yes    Hybrid           3.5  186005 km        6.0   \n",
       "1               No    Petrol             3  192000 km        6.0   \n",
       "2               No    Petrol           1.3  200000 km        4.0   \n",
       "3              Yes    Hybrid           2.5  168966 km        4.0   \n",
       "4              Yes    Petrol           1.3   91901 km        4.0   \n",
       "\n",
       "  Gear box type Drive wheels   Doors             Wheel   Color  Airbags  \n",
       "0     Automatic          4x4  04-May        Left wheel  Silver       12  \n",
       "1     Tiptronic          4x4  04-May        Left wheel   Black        8  \n",
       "2      Variator        Front  04-May  Right-hand drive   Black        2  \n",
       "3     Automatic          4x4  04-May        Left wheel   White        0  \n",
       "4     Automatic        Front  04-May        Left wheel  Silver        4  "
      ]
     },
     "execution_count": 21,
     "metadata": {},
     "output_type": "execute_result"
    }
   ],
   "source": [
    "data = pd.read_csv('car_price_prediction.csv')\n",
    "data.head()"
   ]
  },
  {
   "cell_type": "code",
   "execution_count": 22,
   "id": "d12b9a36",
   "metadata": {},
   "outputs": [],
   "source": [
    "# Retroactively adjusting some value types to be better manageable\n",
    "data.Levy=data.Levy.str.replace('-','0')\n",
    "data.Levy=data.Levy.astype('int64')\n",
    "data.Mileage=data.Mileage.apply(lambda x:str(x).replace(\"km\",\" \"))\n",
    "data.Mileage=data.Mileage.apply(lambda x:int(x))"
   ]
  },
  {
   "cell_type": "code",
   "execution_count": 23,
   "id": "ae20a44a",
   "metadata": {},
   "outputs": [
    {
     "name": "stdout",
     "output_type": "stream",
     "text": [
      "data shape (19237, 18)\n",
      "\n",
      "numerical: ['ID' 'Price' 'Levy' 'Prod. year' 'Mileage' 'Cylinders' 'Airbags']\n",
      "\n",
      "categorical: ['Manufacturer' 'Model' 'Category' 'Leather interior' 'Fuel type'\n",
      " 'Engine volume' 'Gear box type' 'Drive wheels' 'Doors' 'Wheel' 'Color']\n"
     ]
    },
    {
     "data": {
      "text/plain": [
       "ID                    int64\n",
       "Price                 int64\n",
       "Levy                  int64\n",
       "Manufacturer         object\n",
       "Model                object\n",
       "Prod. year            int64\n",
       "Category             object\n",
       "Leather interior     object\n",
       "Fuel type            object\n",
       "Engine volume        object\n",
       "Mileage               int64\n",
       "Cylinders           float64\n",
       "Gear box type        object\n",
       "Drive wheels         object\n",
       "Doors                object\n",
       "Wheel                object\n",
       "Color                object\n",
       "Airbags               int64\n",
       "dtype: object"
      ]
     },
     "execution_count": 23,
     "metadata": {},
     "output_type": "execute_result"
    }
   ],
   "source": [
    "print('data shape', data.shape)\n",
    "print()\n",
    "num_vars = data.columns [data.dtypes != 'object']\n",
    "cat_vars = data.columns [data.dtypes == 'object']\n",
    "print ('numerical:', num_vars.values)\n",
    "print()\n",
    "print('categorical:', cat_vars.values)\n",
    "data.dtypes"
   ]
  },
  {
   "attachments": {},
   "cell_type": "markdown",
   "id": "f6a3fa0a",
   "metadata": {},
   "source": [
    "### Discussing the data types 📝\n",
    "The default data types are extremely apropriate for this dataset. \n",
    "\n",
    "The ones that already have numerical representation might be useful in createding other categories such as the ratio between doors and airbags or the levy and the size of the engine. These categories can be created when we begin analysis and used in our model making to, hopefully, more acurately predict the price of the vehicle. \n",
    "\n",
    "There are also a fair number of attributes with the object data type, and some of these will be very helpful even if they require some one hot encoding first. We've already discussed some of the useful data we are working with in the responses above, but categories such as engine size, leather interior, mileage, number of doors, level of safety (airbag count), and the year they came out, we think, will all prove to be useful indicators in predicting a vehicles price."
   ]
  },
  {
   "attachments": {},
   "cell_type": "markdown",
   "id": "9a97a4b8",
   "metadata": {},
   "source": [
    "### [1.5 points] Verify data quality 👌: Explain any missing values or duplicate data. Visualize entries that are missing/complete for different attributes. Are those mistakes? Why do these quality issues exist in the data? How do you deal with these problems? Give justifications for your methods (elimination or imputation).  "
   ]
  },
  {
   "cell_type": "code",
   "execution_count": 24,
   "id": "3c66e9ca",
   "metadata": {},
   "outputs": [
    {
     "name": "stdout",
     "output_type": "stream",
     "text": [
      "total number of rows: 19237\n",
      "duplicate row count: 313\n",
      "\n",
      "Count of the missing entries in the data\n",
      "ID            0\n",
      "Price         0\n",
      "Levy          0\n",
      "Prod. year    0\n",
      "Mileage       0\n",
      "Cylinders     0\n",
      "Airbags       0\n",
      "dtype: int64\n",
      "Manufacturer        0\n",
      "Model               0\n",
      "Category            0\n",
      "Leather interior    0\n",
      "Fuel type           0\n",
      "Engine volume       0\n",
      "Gear box type       0\n",
      "Drive wheels        0\n",
      "Doors               0\n",
      "Wheel               0\n",
      "Color               0\n",
      "dtype: int64\n"
     ]
    }
   ],
   "source": [
    "print('total number of rows:', len(data))\n",
    "print('duplicate row count:', len(data) - len(data.drop_duplicates()))\n",
    "print()\n",
    "print('Count of the missing entries in the data')\n",
    "print(data[num_vars].isnull().sum())\n",
    "print(data[cat_vars].isnull().sum())"
   ]
  },
  {
   "attachments": {},
   "cell_type": "markdown",
   "id": "c4254740",
   "metadata": {},
   "source": [
    "### Discussion of data issues\n",
    "When doing our initial analysis of the data we plan to simply drop our duplicates since we only have 313 duplicate rows out of the almost twenty thousand. However, we had no missing values for any of our attributes, meaning we have 100% complete data from the start, and we understand this is rare, but it's convienent for this exercise and prediction. \n",
    "\n",
    "If we did have missing values, we would probably drop them like we will the duplicate values so long as it leaves us with a substancial amount of data. It isn't too much of a surprise that we have 100% of our data since these are all relevant and easy to collect on a car-to-car basis."
   ]
  },
  {
   "attachments": {},
   "cell_type": "markdown",
   "id": "6902c11c",
   "metadata": {},
   "source": [
    "# 📊 Data Visualization (4.5 points total)\n",
    "#### [2 points] Visualize basic feature distributions. That is, plot the dynamic range and exploratory distribution plots (like boxplots, histograms, kernel density estimation) to better understand the data. Describe anything meaningful or potentially useful you discover from these visualizations. These may also help to understand what data is missing or needs imputation. Note: You can also use data from other sources to bolster visualizations. Visualize at least five plots, at least one categorical. "
   ]
  },
  {
   "cell_type": "code",
   "execution_count": 25,
   "id": "a28b552c",
   "metadata": {},
   "outputs": [
    {
     "name": "stdout",
     "output_type": "stream",
     "text": [
      "19237\n",
      "11636\n"
     ]
    }
   ],
   "source": [
    "# imports\n",
    "import matplotlib.pyplot as plt\n",
    "import numpy as np\n",
    "from scipy import stats\n",
    "import seaborn as sb\n",
    "\n",
    "print(len(data))\n",
    "\n",
    "# eliminate outliers in the rows for price\n",
    "q_low = data[\"Price\"].quantile(0.10)\n",
    "q_hi  = data[\"Price\"].quantile(0.90)\n",
    "data = data[(data[\"Price\"] < q_hi) & (data[\"Price\"] > q_low)]\n",
    "\n",
    "# eliminate outliers in the rows for years\n",
    "q_low = data[\"Prod. year\"].quantile(0.10)\n",
    "q_hi  = data[\"Prod. year\"].quantile(0.90)\n",
    "data = data[(data[\"Prod. year\"] < q_hi) & (data[\"Prod. year\"] > q_low)]\n",
    "\n",
    "#ensure our dataset is still large enough to proceed after the drops\n",
    "print(len(data))\n",
    "\n",
    "# from sklearn.model_selection import train_test_split\n",
    "# splitting to train and test\n",
    "# data, test = train_test_split(data, test_size=0.2)\n",
    "# answers = test[['Price', 'ID']]\n",
    "# test = test.drop(columns=['Price'])"
   ]
  },
  {
   "cell_type": "code",
   "execution_count": 26,
   "id": "839ff07a",
   "metadata": {},
   "outputs": [
    {
     "data": {
      "image/png": "[encoded data removed]",
      "text/plain": [
       "<Figure size 432x288 with 2 Axes>"
      ]
     },
     "metadata": {
      "needs_background": "light"
     },
     "output_type": "display_data"
    },
    {
     "data": {
      "text/plain": [
       "<AxesSubplot:xlabel='Airbags', ylabel='Density'>"
      ]
     },
     "execution_count": 26,
     "metadata": {},
     "output_type": "execute_result"
    },
    {
     "data": {
      "image/png": "[encoded data removed]",
      "text/plain": [
       "<Figure size 432x288 with 1 Axes>"
      ]
     },
     "metadata": {
      "needs_background": "light"
     },
     "output_type": "display_data"
    }
   ],
   "source": [
    "# begin with basic visualizations of the default data to price\n",
    "# some graph and attribute analysis insporation from: https://www.kaggle.com/code/giridharanp/car-price-predictor\n",
    "\n",
    "#start by looking at histograms for the categorical attributes\n",
    "# for catgegory in cat_vars:\n",
    "#     plt.figure(figsize=[18,8])\n",
    "#     sb.countplot(x=data[catgegory])\n",
    "#     plt.xticks(rotation=90)\n",
    "#     plt.tight_layout()\n",
    "#     plt.show()\n",
    "# maybe do correlation map\n",
    "\n",
    "# then we will check out a heat map to show the intensity of the correlation between some of the variables\n",
    "sb.heatmap(data=data.corr(),cmap='YlGn',annot=True)\n",
    "plt.show()\n",
    "\n",
    "# and now a graphed version of the heatmap\n",
    "# sb.pairplot(data[num_vars])\n",
    "# plt.show()\n",
    "\n",
    "# A neat way of looking at airbag density\n",
    "sb.kdeplot(data['Airbags'], color='b', shade=True)\n"
   ]
  },
  {
   "attachments": {},
   "cell_type": "markdown",
   "id": "4587cd83",
   "metadata": {},
   "source": [
    "### [2.5 points] Ask three interesting questions that are relevant to your dataset and explore visuals that help answer these questions. Use whichever visualization method is appropriate for your data.  Important: Interpret the implications for each visualization. "
   ]
  },
  {
   "attachments": {},
   "cell_type": "markdown",
   "id": "e236b8ff",
   "metadata": {},
   "source": [
    "# Question one: \n",
    "* will making a category that relates the different numerical values to each other aid in finding a correlation to price"
   ]
  },
  {
   "cell_type": "code",
   "execution_count": 27,
   "id": "d2265b89",
   "metadata": {},
   "outputs": [
    {
     "data": {
      "image/png": "[encoded data removed]",
      "text/plain": [
       "<Figure size 432x288 with 2 Axes>"
      ]
     },
     "metadata": {
      "needs_background": "light"
     },
     "output_type": "display_data"
    }
   ],
   "source": [
    "data['Ratio'] = (data['Airbags'] + data['Cylinders'] + data['Prod. year']) / data['Mileage']\n",
    "\n",
    "# check the heatmap\n",
    "sb.heatmap(data=data.corr(),cmap='YlGn',annot=True)\n",
    "plt.show()"
   ]
  },
  {
   "attachments": {},
   "cell_type": "markdown",
   "id": "b6ba26d3",
   "metadata": {},
   "source": [
    "\n",
    "# Question two: \n",
    "* would it be worth encoding some values like color, levy, etc, and if so, which ones should we try?"
   ]
  },
  {
   "cell_type": "code",
   "execution_count": 28,
   "id": "5c806321",
   "metadata": {},
   "outputs": [
    {
     "name": "stdout",
     "output_type": "stream",
     "text": [
      "['Silver' 'Black' 'White' 'Blue' 'Grey' 'Sky blue' 'Orange' 'Green' 'Red'\n",
      " 'Yellow' 'Golden' 'Beige' 'Brown' 'Carnelian red' 'Purple' 'Pink']\n",
      "\n",
      "['04-May' '02-Mar' '>5']\n",
      "\n",
      "['Yes' 'No']\n",
      "\n",
      "['Hybrid' 'Petrol' 'Diesel' 'Plug-in Hybrid' 'LPG' 'CNG' 'Hydrogen']\n",
      "\n",
      "['Automatic' 'Tiptronic' 'Variator' 'Manual']\n",
      "\n",
      "['4x4' 'Front' 'Rear']\n",
      "\n",
      "['Left wheel' 'Right-hand drive']\n",
      "\n",
      "['Jeep' 'Hatchback' 'Sedan' 'Goods wagon' 'Minivan' 'Universal' 'Coupe'\n",
      " 'Microbus' 'Pickup' 'Cabriolet' 'Limousine']\n"
     ]
    }
   ],
   "source": [
    "print(data['Color'].unique())\n",
    "print()\n",
    "print(data['Doors'].unique())\n",
    "print()\n",
    "print(data['Leather interior'].unique())\n",
    "print()\n",
    "print(data['Fuel type'].unique())\n",
    "print()\n",
    "print(data['Gear box type'].unique())\n",
    "print()\n",
    "print(data['Drive wheels'].unique())\n",
    "print()\n",
    "print(data['Wheel'].unique())\n",
    "print()\n",
    "print(data['Category'].unique())"
   ]
  },
  {
   "cell_type": "code",
   "execution_count": 29,
   "id": "2f717335",
   "metadata": {},
   "outputs": [
    {
     "name": "stdout",
     "output_type": "stream",
     "text": [
      "['3.5' '3' '1.3' '2.5' '1.8' '1.6' '2.2 Turbo' '3.3' '2.0 Turbo'\n",
      " '3.0 Turbo' '2' '2.4' '1.5' '2.3' '1.5 Turbo' '1.6 Turbo' '2.2' '4.7'\n",
      " '1.4' '3.2' '3.8' '4.6' '5' '1.2' '1.7' '2.9' '1.8 Turbo' '2.4 Turbo' '4'\n",
      " '1.9' '5.5' '5.3' '0.7' '4.8' '1.4 Turbo' '5.4' '4.4' '1.3 Turbo' '3.7'\n",
      " '1' '3.6' '0.8' '2.7' '3.5 Turbo' '4.8 Turbo' '6.7' '6.2' '1.2 Turbo'\n",
      " '3.4' '1.7 Turbo' '5.7' '2.5 Turbo' '2.8 Turbo' '0.4' '4.2' '2.9 Turbo'\n",
      " '4.6 Turbo' '1.9 Turbo' '4.4 Turbo' '2.7 Turbo' '20' '2.3 Turbo'\n",
      " '3.7 Turbo' '0' '2.8' '0.2' '2.1 Turbo' '0.7 Turbo' '4.5' '5.5 Turbo'\n",
      " '3.2 Turbo' '0.6' '7.3' '0.1' '4.7 Turbo' '4.5 Turbo' '0.8 Turbo' '1.1'\n",
      " '5.6' '2.1' '6.3' '1.0 Turbo' '3.6 Turbo' '3.9' '2.6' '5.0 Turbo'\n",
      " '6.3 Turbo' '5.4 Turbo' '4.3' '0.3 Turbo' '5.2']\n",
      "\n",
      "[ 1399  1018     0   862   446   761   394  1053  1055  1850   531   586\n",
      "   583  1537  1288   915   707  1486   751   382   503  1104   639   629\n",
      "   530   640   765   777   934   769   645  2455  1324  1187   781  1111\n",
      "   760   642  1095   966   473  1138  1811   988   917   687 11714   836\n",
      "   779  1347  1646   697   585   308  1361  1273   584   831   475   893\n",
      "  1266   447  2148  1730   502   333  1325   259   247  1598  1282   900\n",
      "   790  1047   528  1211  1793   919   574  1058   271  1172   706   456\n",
      "  1481  1677  1661  1286  1408  1090   595  1451  1267   993   878   641\n",
      "   749  1511   603  1236  1141   397   353  1024  1357   922  1438  1363\n",
      "   638   490   565   833   986  1620   474  1099  1624  1185  1268  1307\n",
      "   649  2151  1845  1083   694   419  1360  1515  1505  2056   460  1935\n",
      "   876   911   753  1190   448  2410  1148  1028  1197   724   696  1705\n",
      "   789  2959   461  2858  2177  1888  1103   557  2195   843   562   289\n",
      "   501  2018  1436   418  1820  1413  1304   363  2108   521   834  1659\n",
      "  1356  1411  1194  1528  7058  1578   627   874  5603  1234  3268   875\n",
      "   949  1604   742   425  1203   614  1816  1062  2469   658  2670  1995\n",
      "  1032  1301   994  1296    87   155  1750   494   426   961  2236  1829\n",
      "   441  1327  1834  1054   617   637   626  1832  2002  1756   746  1285\n",
      "  1118  5332  1807  1228  1113  1195  1405  1132  1768  1885  1308  1080\n",
      "  7063  1664   764   702  1781   944   663   364  1345  2209   741   695\n",
      "   294   424   971   997  1473  1552  1091   784  1668   924   799  1514\n",
      "   552  1759  5877   526   686  1107  1468  1246   420   556  1917  1346\n",
      "   692   362  1968  1086  1855  1586  1708  1701  1482   928  1470   827\n",
      "   722   832   527   173  1553   916  1108   975  3008  1516  1699  2073\n",
      "  1031  1503  1030  5666  1437  2908  4283   279   666  2188   748  1466\n",
      "   644   683  2705  1252  3141  1518  1588   972  1094   175  1391  3894\n",
      "  1109  3989   873  1163  1991   798  1673  2874   965  1736  2054  2467\n",
      "  1272  1205   750   115   524  3184  1442   676   612  1277   462  1675\n",
      "   623  1110   867  1502  3025  1036   792   636  4057  3743  1079  2570\n",
      "  1474  1662  2628  3208  1317  2505  1064  1836   841  1202  2223  1198\n",
      "  1039  3571  1171  1590 11706  1641]\n"
     ]
    }
   ],
   "source": [
    "# These have too many categories to encode effectively\n",
    "print(data['Engine volume'].unique())\n",
    "print()\n",
    "print(data['Levy'].unique())"
   ]
  },
  {
   "attachments": {},
   "cell_type": "markdown",
   "id": "7eaed31b",
   "metadata": {},
   "source": [
    "# Conclusion from the above visualizations\n",
    "* Looks like it might be worth encoding the values above besides the levy and the engine volume"
   ]
  },
  {
   "cell_type": "code",
   "execution_count": 30,
   "id": "8d3b27ad",
   "metadata": {},
   "outputs": [
    {
     "data": {
      "text/plain": [
       "Index(['ID', 'Price', 'Levy', 'Manufacturer', 'Model', 'Prod. year',\n",
       "       'Engine volume', 'Mileage', 'Cylinders', 'Doors', 'Airbags', 'Ratio',\n",
       "       'Beige', 'Black', 'Blue', 'Brown', 'Carnelian red', 'Golden', 'Green',\n",
       "       'Grey', 'Orange', 'Pink', 'Purple', 'Red', 'Silver', 'Sky blue',\n",
       "       'White', 'Yellow', 'CNG', 'Diesel', 'Hybrid', 'Hydrogen', 'LPG',\n",
       "       'Petrol', 'Plug-in Hybrid', 'Automatic', 'Manual', 'Tiptronic',\n",
       "       'Variator', 'Left wheel', 'Right-hand drive', '4x4', 'FWD', 'RWD',\n",
       "       'Non-leather', 'Leather', 'Cabriolet', 'Coupe', 'Goods wagon',\n",
       "       'Hatchback', 'Jeep', 'Limousine', 'Microbus', 'Minivan', 'Pickup',\n",
       "       'Sedan', 'Universal'],\n",
       "      dtype='object')"
      ]
     },
     "execution_count": 30,
     "metadata": {},
     "output_type": "execute_result"
    }
   ],
   "source": [
    "# encoding colors\n",
    "hot = pd.get_dummies(data['Color'])\n",
    "data = data.join(hot)\n",
    "data = data.drop(columns=['Color'])\n",
    "\n",
    "# encoding fuel type\n",
    "hot = pd.get_dummies(data['Fuel type'])\n",
    "data = data.join(hot)\n",
    "data = data.drop(columns=['Fuel type'])\n",
    "\n",
    "# encoding Gear box type\n",
    "hot = pd.get_dummies(data['Gear box type'])\n",
    "data = data.join(hot)\n",
    "data = data.drop(columns=['Gear box type'])\n",
    "\n",
    "# encoding Wheel\n",
    "hot = pd.get_dummies(data['Wheel'])\n",
    "data = data.join(hot)\n",
    "data = data.drop(columns=['Wheel'])\n",
    "\n",
    "# encoding Drive wheels\n",
    "hot = pd.get_dummies(data['Drive wheels'])\n",
    "# naming clarification\n",
    "hot = hot.rename(columns={'Front': 'FWD', 'Rear': 'RWD'})\n",
    "data = data.join(hot)\n",
    "data = data.drop(columns=['Drive wheels'])\n",
    "\n",
    "# encoding leather interior\n",
    "hot = pd.get_dummies(data['Leather interior'])\n",
    "# naming clarification\n",
    "hot = hot.rename(columns={'Yes': 'Leather', 'No': 'Non-leather'})\n",
    "data = data.join(hot)\n",
    "data = data.drop(columns=['Leather interior'])\n",
    "\n",
    "# encoding car type category\n",
    "hot = pd.get_dummies(data['Category'])\n",
    "data = data.join(hot)\n",
    "data = data.drop(columns=['Category'])\n",
    "\n",
    "data.columns"
   ]
  },
  {
   "attachments": {},
   "cell_type": "markdown",
   "id": "3dfac618",
   "metadata": {},
   "source": [
    "# Question three: \n",
    "* which values would detract from rather than add to making a model and then dropping them"
   ]
  },
  {
   "cell_type": "code",
   "execution_count": 31,
   "id": "44bc2d91",
   "metadata": {},
   "outputs": [
    {
     "data": {
      "text/plain": [
       "Index(['Price', 'Levy', 'Prod. year', 'Cylinders', 'Doors', 'Airbags', 'Beige',\n",
       "       'Black', 'Blue', 'Brown', 'Carnelian red', 'Golden', 'Green', 'Grey',\n",
       "       'Orange', 'Pink', 'Purple', 'Red', 'Silver', 'Sky blue', 'White',\n",
       "       'Yellow', 'CNG', 'Diesel', 'Hybrid', 'Hydrogen', 'LPG', 'Petrol',\n",
       "       'Plug-in Hybrid', 'Automatic', 'Manual', 'Tiptronic', 'Variator',\n",
       "       'Left wheel', 'Right-hand drive', '4x4', 'FWD', 'RWD', 'Non-leather',\n",
       "       'Leather', 'Cabriolet', 'Coupe', 'Goods wagon', 'Hatchback', 'Jeep',\n",
       "       'Limousine', 'Microbus', 'Minivan', 'Pickup', 'Sedan', 'Universal'],\n",
       "      dtype='object')"
      ]
     },
     "execution_count": 31,
     "metadata": {},
     "output_type": "execute_result"
    }
   ],
   "source": [
    "data = data.drop(columns=['ID', 'Engine volume', 'Model', 'Manufacturer', \"Mileage\", 'Ratio'])\n",
    "data.columns"
   ]
  },
  {
   "attachments": {},
   "cell_type": "markdown",
   "id": "6c144767",
   "metadata": {},
   "source": [
    "## Why did we drop these columns? \n",
    "\n",
    "- ID number does not provide any actual data. \n",
    "  - We can't use it to predict anything of meaningful importance.\n",
    "  - It is not a good predictor of price, and was probably used as some sort of tracking method when the data was being gathered\n",
    "\n",
    "- Engine volume is also not a helpful predictor. \n",
    "  - Since it varies so widely based on the model of the car, we decided to drop it. Finding an \"average\" engine volume is not helpful, either. \n",
    "- Larger engines do not also mean a more expensive car, it depends on too many factors to be a good indicator of price. \n",
    "  - We know of many cars, particulary BMW and Mercedes, that recently have been putting smaller engines in cars that are more expensive than the previous model with a larger engine. This would actually end up giving us incorrect information if we are not careful.\n",
    "\n",
    "- Model and Manufacturer aren't all that helpful either. \n",
    "  - There are simply way too many Models and Manufacturers to make any substantial claims. \n",
    "  - Models and Manufacturers also have an extreme variance when it comes to price. \n",
    "  - We wanted to attempt to create a much more accurate prediction, so if we were just to use Model and Manufacturers, we would not see much of correlation. We would have to somehow integrate the year.\n",
    "\n",
    "- Mileage was more of a hindrance than we anticipated. \n",
    "  - Mileage varied so much across the data set that we could not use it without totally throwing off our models.\n",
    "  - We tried to use it as a ratio with the ProductionYear, but it was still not a good indicator of price.\n",
    "\n",
    "*Ratio is currently a combination of Airbags, Cylinders, and ProductionYear over the mileage. In our first question we determined that there was no real correlation, and we decided to drop this data as Airbags, Cylinders, and ProductionYear (all numerical values) don't give a good indication of the price.*"
   ]
  },
  {
   "cell_type": "code",
   "execution_count": 32,
   "id": "eb620526",
   "metadata": {},
   "outputs": [
    {
     "data": {
      "text/plain": [
       "Index(['Price', 'Levy', 'Prod. year', 'Cylinders', 'Doors', 'Airbags', 'Beige',\n",
       "       'Black', 'Blue', 'Brown', 'Carnelian red', 'Golden', 'Green', 'Grey',\n",
       "       'Orange', 'Pink', 'Purple', 'Red', 'Silver', 'Sky blue', 'White',\n",
       "       'Yellow', 'CNG', 'Diesel', 'Hybrid', 'Hydrogen', 'LPG', 'Petrol',\n",
       "       'Plug-in Hybrid', 'Automatic', 'Manual', 'Tiptronic', 'Variator',\n",
       "       'Left wheel', 'Right-hand drive', '4x4', 'FWD', 'RWD', 'Non-leather',\n",
       "       'Leather', 'Cabriolet', 'Coupe', 'Goods wagon', 'Hatchback', 'Jeep',\n",
       "       'Limousine', 'Microbus', 'Minivan', 'Pickup', 'Sedan', 'Universal'],\n",
       "      dtype='object')"
      ]
     },
     "execution_count": 32,
     "metadata": {},
     "output_type": "execute_result"
    }
   ],
   "source": [
    "# Finally, change some types for better readability to the model\n",
    "data['Doors'].replace({'04-May':4, '02-Mar': 2, '>5':5}, inplace = True)\n",
    "data['Doors'] = data['Doors'].astype('int64')\n",
    "data['Cylinders'] = data['Cylinders'].astype('int64')\n",
    "data.columns"
   ]
  },
  {
   "attachments": {},
   "cell_type": "markdown",
   "id": "d8333640",
   "metadata": {},
   "source": [
    "### Final categories overviews"
   ]
  },
  {
   "cell_type": "code",
   "execution_count": 33,
   "id": "3a1dec57",
   "metadata": {},
   "outputs": [
    {
     "name": "stdout",
     "output_type": "stream",
     "text": [
      "<class 'pandas.core.frame.DataFrame'>\n",
      "Int64Index: 11636 entries, 0 to 19235\n",
      "Data columns (total 51 columns):\n",
      " #   Column            Non-Null Count  Dtype\n",
      "---  ------            --------------  -----\n",
      " 0   Price             11636 non-null  int64\n",
      " 1   Levy              11636 non-null  int64\n",
      " 2   Prod. year        11636 non-null  int64\n",
      " 3   Cylinders         11636 non-null  int64\n",
      " 4   Doors             11636 non-null  int64\n",
      " 5   Airbags           11636 non-null  int64\n",
      " 6   Beige             11636 non-null  uint8\n",
      " 7   Black             11636 non-null  uint8\n",
      " 8   Blue              11636 non-null  uint8\n",
      " 9   Brown             11636 non-null  uint8\n",
      " 10  Carnelian red     11636 non-null  uint8\n",
      " 11  Golden            11636 non-null  uint8\n",
      " 12  Green             11636 non-null  uint8\n",
      " 13  Grey              11636 non-null  uint8\n",
      " 14  Orange            11636 non-null  uint8\n",
      " 15  Pink              11636 non-null  uint8\n",
      " 16  Purple            11636 non-null  uint8\n",
      " 17  Red               11636 non-null  uint8\n",
      " 18  Silver            11636 non-null  uint8\n",
      " 19  Sky blue          11636 non-null  uint8\n",
      " 20  White             11636 non-null  uint8\n",
      " 21  Yellow            11636 non-null  uint8\n",
      " 22  CNG               11636 non-null  uint8\n",
      " 23  Diesel            11636 non-null  uint8\n",
      " 24  Hybrid            11636 non-null  uint8\n",
      " 25  Hydrogen          11636 non-null  uint8\n",
      " 26  LPG               11636 non-null  uint8\n",
      " 27  Petrol            11636 non-null  uint8\n",
      " 28  Plug-in Hybrid    11636 non-null  uint8\n",
      " 29  Automatic         11636 non-null  uint8\n",
      " 30  Manual            11636 non-null  uint8\n",
      " 31  Tiptronic         11636 non-null  uint8\n",
      " 32  Variator          11636 non-null  uint8\n",
      " 33  Left wheel        11636 non-null  uint8\n",
      " 34  Right-hand drive  11636 non-null  uint8\n",
      " 35  4x4               11636 non-null  uint8\n",
      " 36  FWD               11636 non-null  uint8\n",
      " 37  RWD               11636 non-null  uint8\n",
      " 38  Non-leather       11636 non-null  uint8\n",
      " 39  Leather           11636 non-null  uint8\n",
      " 40  Cabriolet         11636 non-null  uint8\n",
      " 41  Coupe             11636 non-null  uint8\n",
      " 42  Goods wagon       11636 non-null  uint8\n",
      " 43  Hatchback         11636 non-null  uint8\n",
      " 44  Jeep              11636 non-null  uint8\n",
      " 45  Limousine         11636 non-null  uint8\n",
      " 46  Microbus          11636 non-null  uint8\n",
      " 47  Minivan           11636 non-null  uint8\n",
      " 48  Pickup            11636 non-null  uint8\n",
      " 49  Sedan             11636 non-null  uint8\n",
      " 50  Universal         11636 non-null  uint8\n",
      "dtypes: int64(6), uint8(45)\n",
      "memory usage: 1.4 MB\n"
     ]
    }
   ],
   "source": [
    "data.info()"
   ]
  },
  {
   "cell_type": "code",
   "execution_count": 34,
   "id": "1d4bf141",
   "metadata": {},
   "outputs": [
    {
     "data": {
      "text/plain": [
       "Index(['Price', 'Levy', 'Prod. year', 'Cylinders', 'Doors', 'Airbags', 'Beige',\n",
       "       'Black', 'Blue', 'Brown', 'Carnelian red', 'Golden', 'Green', 'Grey',\n",
       "       'Orange', 'Pink', 'Purple', 'Red', 'Silver', 'Sky blue', 'White',\n",
       "       'Yellow', 'CNG', 'Diesel', 'Hybrid', 'Hydrogen', 'LPG', 'Petrol',\n",
       "       'Plug-in Hybrid', 'Automatic', 'Manual', 'Tiptronic', 'Variator',\n",
       "       'Left wheel', 'Right-hand drive', '4x4', 'FWD', 'RWD', 'Non-leather',\n",
       "       'Leather', 'Cabriolet', 'Coupe', 'Goods wagon', 'Hatchback', 'Jeep',\n",
       "       'Limousine', 'Microbus', 'Minivan', 'Pickup', 'Sedan', 'Universal'],\n",
       "      dtype='object')"
      ]
     },
     "execution_count": 34,
     "metadata": {},
     "output_type": "execute_result"
    }
   ],
   "source": [
    "data.max(axis=0)\n",
    "data.columns"
   ]
  },
  {
   "attachments": {},
   "cell_type": "markdown",
   "id": "aaeeb861",
   "metadata": {},
   "source": [
    "# Exceptional Work (1 points total)\n",
    "### (0.4) The overall quality of the report as a coherent, useful, and polished product will be reflected here. Does it make sense overall. Do your visualizations answer the questions you put forth in your business analysis? Do you properly and consistently cite sources and annotate changes made to base code?"
   ]
  },
  {
   "cell_type": "code",
   "execution_count": 35,
   "id": "1641c7d7",
   "metadata": {},
   "outputs": [
    {
     "name": "stdout",
     "output_type": "stream",
     "text": [
      "Linear Regression : 25 %\n",
      "K Nearest Neighbours : 52 %\n",
      "Decision Tree : 44 %\n",
      "Random Forest : 68 %\n",
      "AdaBoost : 31 %\n",
      "Gradient Boosting Regressor : 67 %\n",
      "XGBRegressor : 67 %\n",
      "CatBoostRegressor : 67 %\n"
     ]
    }
   ],
   "source": [
    "from sklearn.preprocessing import StandardScaler, LabelEncoder, StandardScaler, PolynomialFeatures, MinMaxScaler\n",
    "from sklearn.model_selection import train_test_split\n",
    "from sklearn.linear_model import LinearRegression, Ridge, Lasso\n",
    "from sklearn.neighbors import KNeighborsRegressor\n",
    "from sklearn.ensemble import AdaBoostRegressor\n",
    "from sklearn.ensemble import GradientBoostingRegressor\n",
    "from sklearn.tree import DecisionTreeRegressor\n",
    "from sklearn.ensemble import RandomForestRegressor\n",
    "from xgboost import XGBRegressor\n",
    "from catboost import CatBoostRegressor\n",
    "from sklearn.metrics import r2_score\n",
    "\n",
    "# Drop the price column from the data and store it in a separate variable\n",
    "x = data.drop(['Price'], axis=1).values\n",
    "# Store the target variable in a separate variable\n",
    "y = data['Price'].values\n",
    "# Scale the data\n",
    "x = MinMaxScaler().fit_transform(x)\n",
    "\n",
    "# We want to split the data into training and testing data\n",
    "x_train, x_test, y_train, y_test = train_test_split(x, y, test_size=0.25, random_state=5)\n",
    "\n",
    "# super useful regression help \n",
    "# https://www.kaggle.com/code/moe5998/car-price-prediction-eda-ml-regression-models\n",
    "lr  = LinearRegression()\n",
    "knn = KNeighborsRegressor(n_neighbors=8)\n",
    "dt  = DecisionTreeRegressor(max_depth = 5)\n",
    "rf  = RandomForestRegressor(n_estimators=100, max_features= 7)\n",
    "ada = AdaBoostRegressor( n_estimators=150, learning_rate =.08)\n",
    "gbr = GradientBoostingRegressor(max_depth=7, n_estimators=500, learning_rate =.05)\n",
    "xgb = XGBRegressor(max_depth = 7, n_estimators=500, learning_rate =.05)\n",
    "cb  = CatBoostRegressor(learning_rate =.07, max_depth =7, verbose=0)\n",
    "\n",
    "regressors = [('Linear Regression', lr), ('K Nearest Neighbours', knn),('Decision Tree', dt), ('Random Forest', rf), ('AdaBoost', ada),('Gradient Boosting Regressor', gbr),('XGBRegressor', xgb),('CatBoostRegressor', cb)]\n",
    "\n",
    "for regressor_name, regressor in regressors:\n",
    "\n",
    "    regressor.fit(x_train, y_train)    \n",
    "  \n",
    "    y_pred = regressor.predict(x_test)\n",
    "    accuracy = round(r2_score(y_test,y_pred),3)*100\n",
    "    \n",
    "    print('{:s} : {:.0f} %'.format(regressor_name, accuracy))"
   ]
  },
  {
   "attachments": {},
   "cell_type": "markdown",
   "id": "1164ebf2",
   "metadata": {},
   "source": [
    "### (0.6) Additional analysis  (5000 level) You have free reign to provide any additional analyses. "
   ]
  },
  {
   "cell_type": "code",
   "execution_count": null,
   "id": "4a33316c",
   "metadata": {},
   "outputs": [],
   "source": []
  }
 ],
 "metadata": {
  "kernelspec": {
   "display_name": "mlenv",
   "language": "python",
   "name": "python3"
  },
  "language_info": {
   "codemirror_mode": {
    "name": "ipython",
    "version": 3
   },
   "file_extension": ".py",
   "mimetype": "text/x-python",
   "name": "python",
   "nbconvert_exporter": "python",
   "pygments_lexer": "ipython3",
   "version": "3.10.9"
  },
  "vscode": {
   "interpreter": {
    "hash": "4045ce629ca2404df8e09a4bb72649c60795682d1cc7b69b21add64452ef6fa4"
   }
  }
 },
 "nbformat": 4,
 "nbformat_minor": 5
}
