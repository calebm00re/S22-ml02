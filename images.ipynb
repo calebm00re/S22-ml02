{
 "cells": [
  {
   "attachments": {},
   "cell_type": "markdown",
   "id": "24752109",
   "metadata": {},
   "source": [
    "# Lab Two: Images!\n",
    "## Caleb Moore, Christian Gould, and Blake Gebhardt\n",
    "\n",
    "Data Source: https://www.kaggle.com/datasets/gpreda/chinese-mnist"
   ]
  },
  {
   "cell_type": "code",
   "execution_count": 124,
   "id": "f8d7f632",
   "metadata": {},
   "outputs": [],
   "source": [
    "# Imports\n",
    "import pandas as pd\n",
    "import numpy as np\n",
    "from PIL import Image\n",
    "import os\n",
    "from sklearn.decomposition import PCA\n",
    "from sklearn.preprocessing import StandardScaler\n",
    "import matplotlib.pyplot as plt"
   ]
  },
  {
   "cell_type": "code",
   "execution_count": 125,
   "id": "a46d7e70",
   "metadata": {},
   "outputs": [
    {
     "data": {
      "text/html": [
       "<script>\n",
       "code_show_err=false; \n",
       "function code_toggle_err() {\n",
       " if (code_show_err){\n",
       " $('div.output_stderr').hide();\n",
       " } else {\n",
       " $('div.output_stderr').show();\n",
       " }\n",
       " code_show_err = !code_show_err\n",
       "} \n",
       "$( document ).ready(code_toggle_err);\n",
       "</script>\n",
       "To toggle on/off output_stderr, click <a href=\"javascript:code_toggle_err()\">here</a>."
      ],
      "text/plain": [
       "<IPython.core.display.HTML object>"
      ]
     },
     "execution_count": 125,
     "metadata": {},
     "output_type": "execute_result"
    }
   ],
   "source": [
    "# Notebook setup\n",
    "from IPython.display import HTML\n",
    "HTML('''<script>\n",
    "code_show_err=false; \n",
    "function code_toggle_err() {\n",
    " if (code_show_err){\n",
    " $('div.output_stderr').hide();\n",
    " } else {\n",
    " $('div.output_stderr').show();\n",
    " }\n",
    " code_show_err = !code_show_err\n",
    "} \n",
    "$( document ).ready(code_toggle_err);\n",
    "</script>\n",
    "To toggle on/off output_stderr, click <a href=\"javascript:code_toggle_err()\">here</a>.''')"
   ]
  },
  {
   "attachments": {},
   "cell_type": "markdown",
   "id": "26752583",
   "metadata": {},
   "source": [
    "# 💰 Business Understanding (2 points total).\n",
    "* Give an overview of the dataset. Describe the purpose of the data set you selected (i.e., why was this data collected in the first place?). What is the prediction task for your dataset and which third parties would be interested in the results? Why is this data important? Once you begin modeling, how well would your prediction algorithm need to perform to be considered useful to the identified third parties? Be specific and use your own words to describe the aspects of the data. "
   ]
  },
  {
   "attachments": {},
   "cell_type": "markdown",
   "id": "eaeaeddd",
   "metadata": {},
   "source": [
    "### Purpose of the Dataset\n",
    "* The purpose of the dataset is to be able to read and recognize an image of a chineese number, and be able to predict what number it is. This is important because it can be used to help with reading and recognizing numbers from a language that people in America are not very familiar with, and could possibly be used and generalized to other languages.\n",
    "\n",
    "### Prediction Task\n",
    "* The prediction task is exactly what the dataset was originally collected for. We want to be able to predict the numbers that are in the images.\n",
    "\n",
    "### Third Parties\n",
    "* The third parties that would be interested in the results would be anyone who is a foreigner in china and wants to be able to read and recognize chinese numbers, possibly for paying for services or buying things."
   ]
  },
  {
   "attachments": {},
   "cell_type": "markdown",
   "id": "5db44459",
   "metadata": {},
   "source": [
    "# 📊 Data Preparation"
   ]
  },
  {
   "cell_type": "code",
   "execution_count": 126,
   "id": "698d9d7e",
   "metadata": {},
   "outputs": [],
   "source": [
    "# convert an image name to a python array\n",
    "def conv_img_name_to_array(img_name):\n",
    "  returnArr = []\n",
    "\n",
    "  # Remove the .jpg extension\n",
    "  img_name = img_name[:-4]\n",
    "\n",
    "  # Split the string by underscore\n",
    "  img_name = img_name.split('_')\n",
    "\n",
    "  returnArr.append(int(img_name[1]))\n",
    "  returnArr.append(int(img_name[2]))\n",
    "  returnArr.append(int(img_name[3]))\n",
    "\n",
    "  return returnArr"
   ]
  },
  {
   "attachments": {},
   "cell_type": "markdown",
   "id": "0bc2925f",
   "metadata": {},
   "source": [
    "* [.5 points] Read in your images as numpy arrays. Resize and recolor images as necessary."
   ]
  },
  {
   "cell_type": "code",
   "execution_count": 127,
   "id": "18516c4d",
   "metadata": {},
   "outputs": [],
   "source": [
    "# Function to convert an image to a 1 dimensional array, given the image path\n",
    "IMG_SIZE = 100\n",
    "\n",
    "def conv_img_to_array(img_path):\n",
    "    img = Image.open(img_path)\n",
    "    # Convert to grayscale\n",
    "    img = img.convert('L')\n",
    "\n",
    "    # Adjust the size\n",
    "    img = img.resize((IMG_SIZE, IMG_SIZE))\n",
    "\n",
    "    # Convert to numpy array\n",
    "    img_array = np.array(img)\n",
    "\n",
    "    # Flatten the array\n",
    "    img_array = img_array.flatten()\n",
    "    return img_array"
   ]
  },
  {
   "attachments": {},
   "cell_type": "markdown",
   "id": "ca7cbc2e",
   "metadata": {},
   "source": [
    "* [.4 points] Linearize the images to create a table of 1-D image features (each row should be one image).   "
   ]
  },
  {
   "cell_type": "code",
   "execution_count": 138,
   "id": "55597a45",
   "metadata": {},
   "outputs": [],
   "source": [
    "def conv_data_folder_to_df(df, dataFolderPath, title, limit=None):\n",
    "\n",
    "    # Create an empty list to store the image arrays\n",
    "    img_array_list = []\n",
    "\n",
    "    # Loop over all the images in the folder for limited number of them\n",
    "    if limit is not None:\n",
    "        count = 0\n",
    "        for img_path in os.listdir(dataFolderPath):\n",
    "            if count == limit:\n",
    "                break\n",
    "            # Convert the image to a 1 dimensional array\n",
    "            img_array = conv_img_to_array(dataFolderPath + img_path)\n",
    "\n",
    "            # Get the suite_id, sample_id, and code from the image name\n",
    "            # img_name = conv_img_name_to_array(img_path)\n",
    "\n",
    "            # Add the suite_id, sample_id, and code to the front of the array\n",
    "            img_array = np.append(title, img_array)\n",
    "\n",
    "            # Add it to the list\n",
    "            img_array_list.append(img_array)\n",
    "            count += 1\n",
    "\n",
    "    # Loop over all the images in the folder for all of them\n",
    "    else:\n",
    "        for img_path in os.listdir(dataFolderPath):\n",
    "            # Convert the image to a 1 dimensional array\n",
    "            img_array = conv_img_to_array(dataFolderPath + img_path)\n",
    "\n",
    "            # Get the suite_id, sample_id, and code from the image name\n",
    "            # img_name = conv_img_name_to_array(img_path)\n",
    "\n",
    "            # Add the suite_id, sample_id, and code to the front of the array\n",
    "            img_array = np.append(title, img_array)\n",
    "\n",
    "            # Add it to the list\n",
    "            img_array_list.append(img_array)\n",
    "\n",
    "    # Convert the list to a dataframe\n",
    "    new_one = pd.DataFrame(img_array_list)\n",
    "    return pd.concat([df,new_one], ignore_index=True)"
   ]
  },
  {
   "attachments": {},
   "cell_type": "markdown",
   "id": "f711d9dd",
   "metadata": {},
   "source": [
    "* [.1 points] Visualize several images."
   ]
  },
  {
   "cell_type": "code",
   "execution_count": 129,
   "id": "d684f8a2",
   "metadata": {},
   "outputs": [],
   "source": [
    "# Given a flattened array of pixel values, display the image\n",
    "def visualize_array(img_array):\n",
    "    # Reshape the array to 64x64\n",
    "    img_array = img_array.reshape(IMG_SIZE, IMG_SIZE)\n",
    "\n",
    "    # Convert the array to an image\n",
    "    img = Image.fromarray(img_array)\n",
    "\n",
    "    # Display the image\n",
    "    display(img)"
   ]
  },
  {
   "cell_type": "code",
   "execution_count": 130,
   "id": "56c234f8",
   "metadata": {},
   "outputs": [
    {
     "name": "stdout",
     "output_type": "stream",
     "text": [
      "array form:  [111 118 112 ... 223 224 224]\n"
     ]
    },
    {
     "data": {
      "image/png": "[encoded data removed]",
      "text/plain": [
       "<PIL.Image.Image image mode=L size=100x100>"
      ]
     },
     "metadata": {},
     "output_type": "display_data"
    }
   ],
   "source": [
    "# Visualize an image\n",
    "img_1 = 'smallSet/first.jpg'\n",
    "img_1_arr = conv_img_to_array(img_1)\n",
    "print(\"array form: \", img_1_arr)\n",
    "visualize_array(img_1_arr)"
   ]
  },
  {
   "cell_type": "code",
   "execution_count": 131,
   "id": "c0ad4ec6",
   "metadata": {},
   "outputs": [
    {
     "name": "stdout",
     "output_type": "stream",
     "text": [
      "array form:  [255 255 255 ... 255 255 255]\n"
     ]
    },
    {
     "data": {
      "image/png": "[encoded data removed]",
      "text/plain": [
       "<PIL.Image.Image image mode=L size=100x100>"
      ]
     },
     "metadata": {},
     "output_type": "display_data"
    }
   ],
   "source": [
    "# Visualize another image\n",
    "img_2 = 'smallSet/second.jpg'\n",
    "img_2_arr = conv_img_to_array(img_2)\n",
    "print(\"array form: \", img_2_arr)\n",
    "visualize_array(img_2_arr)"
   ]
  },
  {
   "cell_type": "code",
   "execution_count": 132,
   "id": "0cbcca42",
   "metadata": {},
   "outputs": [
    {
     "name": "stdout",
     "output_type": "stream",
     "text": [
      "array form:  [186 186 182 ... 145 136 135]\n"
     ]
    },
    {
     "data": {
      "image/png": "[encoded data removed]",
      "text/plain": [
       "<PIL.Image.Image image mode=L size=100x100>"
      ]
     },
     "metadata": {},
     "output_type": "display_data"
    }
   ],
   "source": [
    "# Visualize a final image\n",
    "img_3 = 'smallSet/third.jpg'\n",
    "img_3_arr = conv_img_to_array(img_3)\n",
    "print(\"array form: \", img_3_arr)\n",
    "visualize_array(img_3_arr)"
   ]
  },
  {
   "attachments": {},
   "cell_type": "markdown",
   "id": "0cdd84bb",
   "metadata": {},
   "source": [
    "### Read in our image data and csv data"
   ]
  },
  {
   "cell_type": "code",
   "execution_count": 140,
   "id": "0fe58597",
   "metadata": {},
   "outputs": [
    {
     "data": {
      "text/html": [
       "<div>\n",
       "<style scoped>\n",
       "    .dataframe tbody tr th:only-of-type {\n",
       "        vertical-align: middle;\n",
       "    }\n",
       "\n",
       "    .dataframe tbody tr th {\n",
       "        vertical-align: top;\n",
       "    }\n",
       "\n",
       "    .dataframe thead th {\n",
       "        text-align: right;\n",
       "    }\n",
       "</style>\n",
       "<table border=\"1\" class=\"dataframe\">\n",
       "  <thead>\n",
       "    <tr style=\"text-align: right;\">\n",
       "      <th></th>\n",
       "      <th>0</th>\n",
       "      <th>1</th>\n",
       "      <th>2</th>\n",
       "      <th>3</th>\n",
       "      <th>4</th>\n",
       "      <th>5</th>\n",
       "      <th>6</th>\n",
       "      <th>7</th>\n",
       "      <th>8</th>\n",
       "      <th>9</th>\n",
       "      <th>...</th>\n",
       "      <th>9991</th>\n",
       "      <th>9992</th>\n",
       "      <th>9993</th>\n",
       "      <th>9994</th>\n",
       "      <th>9995</th>\n",
       "      <th>9996</th>\n",
       "      <th>9997</th>\n",
       "      <th>9998</th>\n",
       "      <th>9999</th>\n",
       "      <th>10000</th>\n",
       "    </tr>\n",
       "  </thead>\n",
       "  <tbody>\n",
       "    <tr>\n",
       "      <th>0</th>\n",
       "      <td>car</td>\n",
       "      <td>71</td>\n",
       "      <td>34</td>\n",
       "      <td>60</td>\n",
       "      <td>119</td>\n",
       "      <td>55</td>\n",
       "      <td>104</td>\n",
       "      <td>160</td>\n",
       "      <td>100</td>\n",
       "      <td>70</td>\n",
       "      <td>...</td>\n",
       "      <td>48</td>\n",
       "      <td>65</td>\n",
       "      <td>61</td>\n",
       "      <td>23</td>\n",
       "      <td>54</td>\n",
       "      <td>79</td>\n",
       "      <td>79</td>\n",
       "      <td>36</td>\n",
       "      <td>63</td>\n",
       "      <td>86</td>\n",
       "    </tr>\n",
       "    <tr>\n",
       "      <th>1</th>\n",
       "      <td>car</td>\n",
       "      <td>142</td>\n",
       "      <td>117</td>\n",
       "      <td>109</td>\n",
       "      <td>92</td>\n",
       "      <td>108</td>\n",
       "      <td>135</td>\n",
       "      <td>135</td>\n",
       "      <td>194</td>\n",
       "      <td>232</td>\n",
       "      <td>...</td>\n",
       "      <td>3</td>\n",
       "      <td>5</td>\n",
       "      <td>14</td>\n",
       "      <td>11</td>\n",
       "      <td>11</td>\n",
       "      <td>11</td>\n",
       "      <td>13</td>\n",
       "      <td>14</td>\n",
       "      <td>12</td>\n",
       "      <td>10</td>\n",
       "    </tr>\n",
       "    <tr>\n",
       "      <th>2</th>\n",
       "      <td>car</td>\n",
       "      <td>149</td>\n",
       "      <td>149</td>\n",
       "      <td>150</td>\n",
       "      <td>150</td>\n",
       "      <td>151</td>\n",
       "      <td>151</td>\n",
       "      <td>151</td>\n",
       "      <td>151</td>\n",
       "      <td>151</td>\n",
       "      <td>...</td>\n",
       "      <td>140</td>\n",
       "      <td>142</td>\n",
       "      <td>141</td>\n",
       "      <td>141</td>\n",
       "      <td>140</td>\n",
       "      <td>138</td>\n",
       "      <td>131</td>\n",
       "      <td>138</td>\n",
       "      <td>150</td>\n",
       "      <td>152</td>\n",
       "    </tr>\n",
       "    <tr>\n",
       "      <th>3</th>\n",
       "      <td>car</td>\n",
       "      <td>221</td>\n",
       "      <td>224</td>\n",
       "      <td>225</td>\n",
       "      <td>225</td>\n",
       "      <td>225</td>\n",
       "      <td>228</td>\n",
       "      <td>231</td>\n",
       "      <td>232</td>\n",
       "      <td>232</td>\n",
       "      <td>...</td>\n",
       "      <td>126</td>\n",
       "      <td>147</td>\n",
       "      <td>122</td>\n",
       "      <td>124</td>\n",
       "      <td>114</td>\n",
       "      <td>109</td>\n",
       "      <td>106</td>\n",
       "      <td>109</td>\n",
       "      <td>109</td>\n",
       "      <td>91</td>\n",
       "    </tr>\n",
       "    <tr>\n",
       "      <th>4</th>\n",
       "      <td>car</td>\n",
       "      <td>60</td>\n",
       "      <td>64</td>\n",
       "      <td>66</td>\n",
       "      <td>57</td>\n",
       "      <td>29</td>\n",
       "      <td>32</td>\n",
       "      <td>57</td>\n",
       "      <td>61</td>\n",
       "      <td>42</td>\n",
       "      <td>...</td>\n",
       "      <td>169</td>\n",
       "      <td>166</td>\n",
       "      <td>163</td>\n",
       "      <td>161</td>\n",
       "      <td>159</td>\n",
       "      <td>157</td>\n",
       "      <td>157</td>\n",
       "      <td>155</td>\n",
       "      <td>153</td>\n",
       "      <td>153</td>\n",
       "    </tr>\n",
       "    <tr>\n",
       "      <th>5</th>\n",
       "      <td>flower</td>\n",
       "      <td>101</td>\n",
       "      <td>117</td>\n",
       "      <td>99</td>\n",
       "      <td>83</td>\n",
       "      <td>109</td>\n",
       "      <td>90</td>\n",
       "      <td>67</td>\n",
       "      <td>85</td>\n",
       "      <td>102</td>\n",
       "      <td>...</td>\n",
       "      <td>92</td>\n",
       "      <td>90</td>\n",
       "      <td>102</td>\n",
       "      <td>111</td>\n",
       "      <td>103</td>\n",
       "      <td>98</td>\n",
       "      <td>87</td>\n",
       "      <td>75</td>\n",
       "      <td>68</td>\n",
       "      <td>67</td>\n",
       "    </tr>\n",
       "    <tr>\n",
       "      <th>6</th>\n",
       "      <td>flower</td>\n",
       "      <td>134</td>\n",
       "      <td>134</td>\n",
       "      <td>135</td>\n",
       "      <td>135</td>\n",
       "      <td>135</td>\n",
       "      <td>136</td>\n",
       "      <td>137</td>\n",
       "      <td>137</td>\n",
       "      <td>137</td>\n",
       "      <td>...</td>\n",
       "      <td>156</td>\n",
       "      <td>154</td>\n",
       "      <td>115</td>\n",
       "      <td>128</td>\n",
       "      <td>161</td>\n",
       "      <td>163</td>\n",
       "      <td>167</td>\n",
       "      <td>200</td>\n",
       "      <td>161</td>\n",
       "      <td>220</td>\n",
       "    </tr>\n",
       "    <tr>\n",
       "      <th>7</th>\n",
       "      <td>flower</td>\n",
       "      <td>71</td>\n",
       "      <td>71</td>\n",
       "      <td>67</td>\n",
       "      <td>51</td>\n",
       "      <td>41</td>\n",
       "      <td>48</td>\n",
       "      <td>53</td>\n",
       "      <td>55</td>\n",
       "      <td>61</td>\n",
       "      <td>...</td>\n",
       "      <td>62</td>\n",
       "      <td>66</td>\n",
       "      <td>65</td>\n",
       "      <td>57</td>\n",
       "      <td>47</td>\n",
       "      <td>40</td>\n",
       "      <td>34</td>\n",
       "      <td>33</td>\n",
       "      <td>32</td>\n",
       "      <td>31</td>\n",
       "    </tr>\n",
       "    <tr>\n",
       "      <th>8</th>\n",
       "      <td>flower</td>\n",
       "      <td>117</td>\n",
       "      <td>117</td>\n",
       "      <td>118</td>\n",
       "      <td>119</td>\n",
       "      <td>120</td>\n",
       "      <td>121</td>\n",
       "      <td>121</td>\n",
       "      <td>121</td>\n",
       "      <td>121</td>\n",
       "      <td>...</td>\n",
       "      <td>98</td>\n",
       "      <td>97</td>\n",
       "      <td>112</td>\n",
       "      <td>124</td>\n",
       "      <td>112</td>\n",
       "      <td>105</td>\n",
       "      <td>90</td>\n",
       "      <td>56</td>\n",
       "      <td>63</td>\n",
       "      <td>68</td>\n",
       "    </tr>\n",
       "    <tr>\n",
       "      <th>9</th>\n",
       "      <td>flower</td>\n",
       "      <td>76</td>\n",
       "      <td>77</td>\n",
       "      <td>79</td>\n",
       "      <td>79</td>\n",
       "      <td>79</td>\n",
       "      <td>78</td>\n",
       "      <td>77</td>\n",
       "      <td>76</td>\n",
       "      <td>69</td>\n",
       "      <td>...</td>\n",
       "      <td>149</td>\n",
       "      <td>174</td>\n",
       "      <td>179</td>\n",
       "      <td>179</td>\n",
       "      <td>172</td>\n",
       "      <td>168</td>\n",
       "      <td>159</td>\n",
       "      <td>85</td>\n",
       "      <td>34</td>\n",
       "      <td>35</td>\n",
       "    </tr>\n",
       "  </tbody>\n",
       "</table>\n",
       "<p>10 rows × 10001 columns</p>\n",
       "</div>"
      ],
      "text/plain": [
       "    0     1     2     3     4     5     6     7     8     9      ... 9991   \\\n",
       "0     car    71    34    60   119    55   104   160   100    70  ...    48   \n",
       "1     car   142   117   109    92   108   135   135   194   232  ...     3   \n",
       "2     car   149   149   150   150   151   151   151   151   151  ...   140   \n",
       "3     car   221   224   225   225   225   228   231   232   232  ...   126   \n",
       "4     car    60    64    66    57    29    32    57    61    42  ...   169   \n",
       "5  flower   101   117    99    83   109    90    67    85   102  ...    92   \n",
       "6  flower   134   134   135   135   135   136   137   137   137  ...   156   \n",
       "7  flower    71    71    67    51    41    48    53    55    61  ...    62   \n",
       "8  flower   117   117   118   119   120   121   121   121   121  ...    98   \n",
       "9  flower    76    77    79    79    79    78    77    76    69  ...   149   \n",
       "\n",
       "  9992  9993  9994  9995  9996  9997  9998  9999  10000  \n",
       "0    65    61    23    54    79    79    36    63    86  \n",
       "1     5    14    11    11    11    13    14    12    10  \n",
       "2   142   141   141   140   138   131   138   150   152  \n",
       "3   147   122   124   114   109   106   109   109    91  \n",
       "4   166   163   161   159   157   157   155   153   153  \n",
       "5    90   102   111   103    98    87    75    68    67  \n",
       "6   154   115   128   161   163   167   200   161   220  \n",
       "7    66    65    57    47    40    34    33    32    31  \n",
       "8    97   112   124   112   105    90    56    63    68  \n",
       "9   174   179   179   172   168   159    85    34    35  \n",
       "\n",
       "[10 rows x 10001 columns]"
      ]
     },
     "execution_count": 140,
     "metadata": {},
     "output_type": "execute_result"
    }
   ],
   "source": [
    "# Convert the data folder to a dataframe\n",
    "df = pd.DataFrame()\n",
    "df = conv_data_folder_to_df(df, './training_set/car/', 'car', 5)\n",
    "df = conv_data_folder_to_df(df, './training_set/flower/', 'flower', 5)\n",
    "df.head(10)"
   ]
  },
  {
   "attachments": {},
   "cell_type": "markdown",
   "id": "b904c935",
   "metadata": {},
   "source": [
    "### Combine the data into one dataframe"
   ]
  },
  {
   "cell_type": "code",
   "execution_count": 91,
   "id": "77402ae3",
   "metadata": {},
   "outputs": [],
   "source": [
    "# Merge the two dataframes\n",
    "# data = pd.merge(data_df, csv_df, on=['suite_id', 'sample_id', 'code'])\n",
    "# data.head()"
   ]
  },
  {
   "attachments": {},
   "cell_type": "markdown",
   "id": "cf9b0e17",
   "metadata": {},
   "source": [
    "### Take a brief look at the data"
   ]
  },
  {
   "cell_type": "code",
   "execution_count": null,
   "id": "ae20a44a",
   "metadata": {},
   "outputs": [
    {
     "name": "stdout",
     "output_type": "stream",
     "text": [
      "data shape (15000, 4101)\n",
      "\n",
      "numerical: ['suite_id' 'sample_id' 'code' ... 'pixel_4094' 'pixel_4095' 'value']\n",
      "\n",
      "categorical: ['character']\n"
     ]
    },
    {
     "data": {
      "text/plain": [
       "suite_id       int64\n",
       "sample_id      int64\n",
       "code           int64\n",
       "pixel_0        int64\n",
       "pixel_1        int64\n",
       "               ...  \n",
       "pixel_4093     int64\n",
       "pixel_4094     int64\n",
       "pixel_4095     int64\n",
       "value          int64\n",
       "character     object\n",
       "Length: 4101, dtype: object"
      ]
     },
     "execution_count": 13,
     "metadata": {},
     "output_type": "execute_result"
    }
   ],
   "source": [
    "print('data shape', data.shape)\n",
    "print()\n",
    "num_vars = data.columns [data.dtypes != 'object']\n",
    "cat_vars = data.columns [data.dtypes == 'object']\n",
    "print ('numerical:', num_vars.values)\n",
    "print()\n",
    "print('categorical:', cat_vars.values)\n",
    "data.dtypes"
   ]
  },
  {
   "attachments": {},
   "cell_type": "markdown",
   "id": "9a97a4b8",
   "metadata": {},
   "source": [
    "### [1.5 points] Data Reduction 👌: \n",
    "<span style=\"color:red\">\n",
    "[.5 points] Perform linear dimensionality reduction of the images using principal components analysis. Visualize the explained variance of each component. Analyze how many dimensions are required to adequately represent your image data. Explain your analysis and conclusion.\n",
    "</span>"
   ]
  },
  {
   "cell_type": "code",
   "execution_count": null,
   "id": "e46b225c",
   "metadata": {},
   "outputs": [],
   "source": [
    "# Standardize the data\n",
    "scaler = StandardScaler()\n",
    "\n",
    "x = data.loc[:, colNames].values\n",
    "\n",
    "y = data.loc[:,['character']].values\n",
    "\n",
    "x = scaler.fit_transform(x)\n",
    "\n",
    "pca = PCA(n_components=.95)\n",
    "\n",
    "principalComponents = pca.fit_transform(x)\n",
    "\n",
    "principalDf = pd.DataFrame(data = principalComponents)\n",
    "\n",
    "finalDf = pd.concat([principalDf, data[['character']]], axis = 1)"
   ]
  },
  {
   "cell_type": "code",
   "execution_count": null,
   "id": "88c7f97c",
   "metadata": {},
   "outputs": [
    {
     "data": {
      "text/plain": [
       "Text(0.5, 1.0, 'PCA')"
      ]
     },
     "execution_count": 44,
     "metadata": {},
     "output_type": "execute_result"
    },
    {
     "data": {
      "image/png": "[encoded data removed]",
      "text/plain": [
       "<Figure size 576x576 with 1 Axes>"
      ]
     },
     "metadata": {
      "needs_background": "light"
     },
     "output_type": "display_data"
    }
   ],
   "source": [
    "# Visualize the data\n",
    "plt.figure(figsize=(8,8))\n",
    "plt.title('PCA')\n",
    "\n"
   ]
  },
  {
   "cell_type": "markdown",
   "metadata": {},
   "source": []
  },
  {
   "attachments": {},
   "cell_type": "markdown",
   "id": "7c4d140f",
   "metadata": {},
   "source": [
    "<span style=\"color:red\">\n",
    "[.5 points] Perform linear dimensionality reduction of your image data using randomized principle components analysis. Visualize the explained variance of each component. Analyze how many dimensions are required to adequately represent your image data. Explain your analysis and conclusion.\n",
    "</span>"
   ]
  },
  {
   "cell_type": "code",
   "execution_count": null,
   "id": "16cc4ac1",
   "metadata": {},
   "outputs": [],
   "source": []
  },
  {
   "attachments": {},
   "cell_type": "markdown",
   "id": "35d46407",
   "metadata": {},
   "source": [
    "<span style=\"color:red\">\n",
    "[2 points]  Compare the representation using PCA and Randomized PCA. The method you choose to compare dimensionality methods should quantitatively explain which method is better at representing the images with fewer components.  Do you prefer one method over another? Why?\n",
    "</span>"
   ]
  },
  {
   "cell_type": "code",
   "execution_count": null,
   "id": "e5a2faa7",
   "metadata": {},
   "outputs": [],
   "source": []
  },
  {
   "attachments": {},
   "cell_type": "markdown",
   "id": "383438fe",
   "metadata": {},
   "source": [
    "<span style=\"color:red\">\n",
    "[1 points] Perform feature extraction upon the images using DAISY. Try different parameters for your image data.\n",
    "</span>"
   ]
  },
  {
   "cell_type": "code",
   "execution_count": null,
   "id": "fe5f6cb4",
   "metadata": {},
   "outputs": [],
   "source": []
  },
  {
   "attachments": {},
   "cell_type": "markdown",
   "id": "77ba1061",
   "metadata": {},
   "source": [
    "<span style=\"color:red\">\n",
    "[2 points] Does this feature extraction method show promise for your prediction task? Why?\n",
    "</span>"
   ]
  },
  {
   "cell_type": "code",
   "execution_count": null,
   "id": "d2ef8e7d",
   "metadata": {},
   "outputs": [],
   "source": []
  },
  {
   "attachments": {},
   "cell_type": "markdown",
   "id": "4ebf21ae",
   "metadata": {},
   "source": [
    "<span style=\"color:red\">\n",
    "* Use visualizations to analyze this questions. For example, use a heat map of the pairwise differences (ordered by class) among all extracted features. Another option, build a nearest neighbor classifier to see actual classification performance.  \n",
    "</span>"
   ]
  },
  {
   "cell_type": "code",
   "execution_count": null,
   "id": "e6f77635",
   "metadata": {},
   "outputs": [],
   "source": []
  },
  {
   "attachments": {},
   "cell_type": "markdown",
   "id": "aaeeb861",
   "metadata": {},
   "source": [
    "# Exceptional Work (1 points total)\n",
    "<span style=\"color:red\">\n",
    "(0.4) The overall quality of the report as a coherent, useful, and polished product will be reflected here. Does it make sense overall? Do your visualizations answer the questions you put forth in your business analysis? Do you properly and consistently cite sources and annotate changes made to base code? Do you provide specific reasons for your assumptions? Do subsequent questions follow naturally from initial exploration?\n",
    "</span>\n"
   ]
  },
  {
   "cell_type": "code",
   "execution_count": null,
   "id": "c1a1a8df",
   "metadata": {},
   "outputs": [],
   "source": []
  },
  {
   "attachments": {},
   "cell_type": "markdown",
   "id": "4a33316c",
   "metadata": {},
   "source": [
    "<span style=\"color:red\">\n",
    "(0.6) Additional analysis\n",
    "(5000 level) You have free rein to provide any additional analyses and visualizations appropriate to your data.\n",
    "</span>"
   ]
  },
  {
   "cell_type": "code",
   "execution_count": null,
   "id": "8ae717a0",
   "metadata": {},
   "outputs": [],
   "source": []
  }
 ],
 "metadata": {
  "kernelspec": {
   "display_name": "Python 3",
   "language": "python",
   "name": "python3"
  },
  "language_info": {
   "codemirror_mode": {
    "name": "ipython",
    "version": 3
   },
   "file_extension": ".py",
   "mimetype": "text/x-python",
   "name": "python",
   "nbconvert_exporter": "python",
   "pygments_lexer": "ipython3",
   "version": "3.9.7"
  },
  "vscode": {
   "interpreter": {
    "hash": "38cca0c38332a56087b24af0bc80247f4fced29cb4f7f437d91dc159adec9c4e"
   }
  }
 },
 "nbformat": 4,
 "nbformat_minor": 5
}
