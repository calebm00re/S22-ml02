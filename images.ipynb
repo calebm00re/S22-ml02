{
 "cells": [
  {
   "attachments": {},
   "cell_type": "markdown",
   "id": "24752109",
   "metadata": {},
   "source": [
    "# Lab Two: Images!\n",
    "## Caleb Moore, Christian Gould, and Blake Gebhardt\n",
    "\n",
    "Data Source: https://www.kaggle.com/datasets/gpreda/chinese-mnist"
   ]
  },
  {
   "cell_type": "code",
   "execution_count": 49,
   "id": "f8d7f632",
   "metadata": {},
   "outputs": [],
   "source": [
    "# Imports\n",
    "import pandas as pd\n",
    "import numpy as np\n",
    "from PIL import Image\n",
    "import os"
   ]
  },
  {
   "cell_type": "code",
   "execution_count": 50,
   "id": "a46d7e70",
   "metadata": {},
   "outputs": [
    {
     "data": {
      "text/html": [
       "<script>\n",
       "code_show_err=false; \n",
       "function code_toggle_err() {\n",
       " if (code_show_err){\n",
       " $('div.output_stderr').hide();\n",
       " } else {\n",
       " $('div.output_stderr').show();\n",
       " }\n",
       " code_show_err = !code_show_err\n",
       "} \n",
       "$( document ).ready(code_toggle_err);\n",
       "</script>\n",
       "To toggle on/off output_stderr, click <a href=\"javascript:code_toggle_err()\">here</a>."
      ],
      "text/plain": [
       "<IPython.core.display.HTML object>"
      ]
     },
     "execution_count": 50,
     "metadata": {},
     "output_type": "execute_result"
    }
   ],
   "source": [
    "# Notebook setup\n",
    "from IPython.display import HTML\n",
    "HTML('''<script>\n",
    "code_show_err=false; \n",
    "function code_toggle_err() {\n",
    " if (code_show_err){\n",
    " $('div.output_stderr').hide();\n",
    " } else {\n",
    " $('div.output_stderr').show();\n",
    " }\n",
    " code_show_err = !code_show_err\n",
    "} \n",
    "$( document ).ready(code_toggle_err);\n",
    "</script>\n",
    "To toggle on/off output_stderr, click <a href=\"javascript:code_toggle_err()\">here</a>.''')"
   ]
  },
  {
   "attachments": {},
   "cell_type": "markdown",
   "id": "26752583",
   "metadata": {},
   "source": [
    "# 💰 Business Understanding (2 points total).\n",
    "* Give an overview of the dataset. Describe the purpose of the data set you selected (i.e., why was this data collected in the first place?). What is the prediction task for your dataset and which third parties would be interested in the results? Why is this data important? Once you begin modeling, how well would your prediction algorithm need to perform to be considered useful to the identified third parties? Be specific and use your own words to describe the aspects of the data. "
   ]
  },
  {
   "attachments": {},
   "cell_type": "markdown",
   "id": "eaeaeddd",
   "metadata": {},
   "source": [
    "### Purpose of the Dataset\n",
    "* The purpose of the dataset is to be able to read and recognize an image of a chineese number, and be able to predict what number it is. This is important because it can be used to help with reading and recognizing numbers from a language that people in America are not very familiar with, and could possibly be used and generalized to other languages.\n",
    "\n",
    "### Prediction Task\n",
    "* The prediction task is exactly what the dataset was originally collected for. We want to be able to predict the numbers that are in the images.\n",
    "\n",
    "### Third Parties\n",
    "* The third parties that would be interested in the results would be anyone who is a foreigner in china and wants to be able to read and recognize chinese numbers, possibly for paying for services or buying things."
   ]
  },
  {
   "attachments": {},
   "cell_type": "markdown",
   "id": "5db44459",
   "metadata": {},
   "source": [
    "# 📊 Data Preparation"
   ]
  },
  {
   "cell_type": "code",
   "execution_count": 51,
   "id": "698d9d7e",
   "metadata": {},
   "outputs": [],
   "source": [
    "# convert an image name to a python array\n",
    "def conv_img_name_to_array(img_name):\n",
    "  returnArr = []\n",
    "\n",
    "  # Remove the .jpg extension\n",
    "  img_name = img_name[:-4]\n",
    "\n",
    "  # Split the string by underscore\n",
    "  img_name = img_name.split('_')\n",
    "\n",
    "  returnArr.append(int(img_name[1]))\n",
    "  returnArr.append(int(img_name[2]))\n",
    "  returnArr.append(int(img_name[3]))\n",
    "\n",
    "  return returnArr"
   ]
  },
  {
   "attachments": {},
   "cell_type": "markdown",
   "id": "0bc2925f",
   "metadata": {},
   "source": [
    "* [.5 points] Read in your images as numpy arrays. Resize and recolor images as necessary."
   ]
  },
  {
   "cell_type": "code",
   "execution_count": 52,
   "id": "18516c4d",
   "metadata": {},
   "outputs": [],
   "source": [
    "# Function to convert an image to a 1 dimensional array, given the image path\n",
    "def conv_img_to_array(img_path):\n",
    "    img = Image.open(img_path)\n",
    "    img_array = np.array(img)\n",
    "\n",
    "    # Flatten the array\n",
    "    img_array = img_array.flatten()\n",
    "    return img_array"
   ]
  },
  {
   "attachments": {},
   "cell_type": "markdown",
   "id": "ca7cbc2e",
   "metadata": {},
   "source": [
    "* [.4 points] Linearize the images to create a table of 1-D image features (each row should be one image).   "
   ]
  },
  {
   "cell_type": "code",
   "execution_count": 53,
   "id": "55597a45",
   "metadata": {},
   "outputs": [],
   "source": [
    "def conv_data_folder_to_df(dataFolderPath):\n",
    "\n",
    "    # Make a list of all the column names for the dataframe\n",
    "    colNames = ['suite_id', 'sample_id', 'code']\n",
    "    for i in range(4096):\n",
    "        colNames.append('pixel_' + str(i))\n",
    "\n",
    "    # Create an empty list to store the image arrays\n",
    "    img_array_list = []\n",
    "\n",
    "    # Loop over all the images in the folder\n",
    "    for img_path in os.listdir(dataFolderPath):\n",
    "        # Convert the image to a 1 dimensional array\n",
    "        img_array = conv_img_to_array(dataFolderPath + img_path)\n",
    "\n",
    "        # Get the suite_id, sample_id, and code from the image name\n",
    "        img_name = conv_img_name_to_array(img_path)\n",
    "\n",
    "        # Add the suite_id, sample_id, and code to the front of the array\n",
    "        img_array = np.append(img_name, img_array)\n",
    "\n",
    "        # Add it to the list\n",
    "        img_array_list.append(img_array)\n",
    "\n",
    "    # Convert the list to a dataframe\n",
    "    img_df = pd.DataFrame(img_array_list, columns=colNames)\n",
    "    return img_df"
   ]
  },
  {
   "attachments": {},
   "cell_type": "markdown",
   "id": "f711d9dd",
   "metadata": {},
   "source": [
    "* [.1 points] Visualize several images."
   ]
  },
  {
   "cell_type": "code",
   "execution_count": 54,
   "id": "d684f8a2",
   "metadata": {},
   "outputs": [],
   "source": [
    "# Given a flattened array of pixel values, display the image\n",
    "def visualize_array(img_array):\n",
    "    # Reshape the array to 64x64\n",
    "    img_array = img_array.reshape(64, 64)\n",
    "\n",
    "    # Convert the array to an image\n",
    "    img = Image.fromarray(img_array)\n",
    "\n",
    "    # Display the image\n",
    "    display(img)"
   ]
  },
  {
   "cell_type": "code",
   "execution_count": 55,
   "id": "56c234f8",
   "metadata": {},
   "outputs": [
    {
     "name": "stdout",
     "output_type": "stream",
     "text": [
      "array form:  [0 0 0 ... 0 0 0]\n"
     ]
    },
    {
     "data": {
      "image/png": "[encoded data removed]",
      "text/plain": [
       "<PIL.Image.Image image mode=L size=64x64 at 0x7FCD2295F070>"
      ]
     },
     "metadata": {},
     "output_type": "display_data"
    }
   ],
   "source": [
    "# Visualize an image\n",
    "img_1 = 'data/input_1_1_1.jpg'\n",
    "img_1_arr = conv_img_to_array(img_1)\n",
    "print(\"array form: \", img_1_arr)\n",
    "visualize_array(img_1_arr)"
   ]
  },
  {
   "cell_type": "code",
   "execution_count": 56,
   "id": "c0ad4ec6",
   "metadata": {},
   "outputs": [
    {
     "name": "stdout",
     "output_type": "stream",
     "text": [
      "array form:  [0 0 0 ... 0 0 0]\n"
     ]
    },
    {
     "data": {
      "image/png": "[encoded data removed]",
      "text/plain": [
       "<PIL.Image.Image image mode=L size=64x64 at 0x7FCD305A93D0>"
      ]
     },
     "metadata": {},
     "output_type": "display_data"
    }
   ],
   "source": [
    "# Visualize another image\n",
    "img_2 = 'data/input_74_8_9.jpg'\n",
    "img_2_arr = conv_img_to_array(img_2)\n",
    "print(\"array form: \", img_2_arr)\n",
    "visualize_array(img_2_arr)"
   ]
  },
  {
   "cell_type": "code",
   "execution_count": 57,
   "id": "0cbcca42",
   "metadata": {},
   "outputs": [
    {
     "name": "stdout",
     "output_type": "stream",
     "text": [
      "array form:  [0 0 0 ... 0 0 0]\n"
     ]
    },
    {
     "data": {
      "image/png": "[encoded data removed]",
      "text/plain": [
       "<PIL.Image.Image image mode=L size=64x64 at 0x7FCD305A93D0>"
      ]
     },
     "metadata": {},
     "output_type": "display_data"
    }
   ],
   "source": [
    "# Visualize a final image\n",
    "img_3 = 'data/input_100_4_12.jpg'\n",
    "img_3_arr = conv_img_to_array(img_3)\n",
    "print(\"array form: \", img_3_arr)\n",
    "visualize_array(img_3_arr)"
   ]
  },
  {
   "attachments": {},
   "cell_type": "markdown",
   "id": "0cdd84bb",
   "metadata": {},
   "source": [
    "### Read in our data"
   ]
  },
  {
   "cell_type": "code",
   "execution_count": 58,
   "id": "0fe58597",
   "metadata": {},
   "outputs": [
    {
     "data": {
      "text/html": [
       "<div>\n",
       "<style scoped>\n",
       "    .dataframe tbody tr th:only-of-type {\n",
       "        vertical-align: middle;\n",
       "    }\n",
       "\n",
       "    .dataframe tbody tr th {\n",
       "        vertical-align: top;\n",
       "    }\n",
       "\n",
       "    .dataframe thead th {\n",
       "        text-align: right;\n",
       "    }\n",
       "</style>\n",
       "<table border=\"1\" class=\"dataframe\">\n",
       "  <thead>\n",
       "    <tr style=\"text-align: right;\">\n",
       "      <th></th>\n",
       "      <th>suite_id</th>\n",
       "      <th>sample_id</th>\n",
       "      <th>code</th>\n",
       "      <th>pixel_0</th>\n",
       "      <th>pixel_1</th>\n",
       "      <th>pixel_2</th>\n",
       "      <th>pixel_3</th>\n",
       "      <th>pixel_4</th>\n",
       "      <th>pixel_5</th>\n",
       "      <th>pixel_6</th>\n",
       "      <th>...</th>\n",
       "      <th>pixel_4086</th>\n",
       "      <th>pixel_4087</th>\n",
       "      <th>pixel_4088</th>\n",
       "      <th>pixel_4089</th>\n",
       "      <th>pixel_4090</th>\n",
       "      <th>pixel_4091</th>\n",
       "      <th>pixel_4092</th>\n",
       "      <th>pixel_4093</th>\n",
       "      <th>pixel_4094</th>\n",
       "      <th>pixel_4095</th>\n",
       "    </tr>\n",
       "  </thead>\n",
       "  <tbody>\n",
       "    <tr>\n",
       "      <th>0</th>\n",
       "      <td>69</td>\n",
       "      <td>2</td>\n",
       "      <td>7</td>\n",
       "      <td>0</td>\n",
       "      <td>0</td>\n",
       "      <td>0</td>\n",
       "      <td>0</td>\n",
       "      <td>0</td>\n",
       "      <td>0</td>\n",
       "      <td>0</td>\n",
       "      <td>...</td>\n",
       "      <td>0</td>\n",
       "      <td>0</td>\n",
       "      <td>0</td>\n",
       "      <td>0</td>\n",
       "      <td>0</td>\n",
       "      <td>0</td>\n",
       "      <td>0</td>\n",
       "      <td>0</td>\n",
       "      <td>0</td>\n",
       "      <td>0</td>\n",
       "    </tr>\n",
       "    <tr>\n",
       "      <th>1</th>\n",
       "      <td>11</td>\n",
       "      <td>7</td>\n",
       "      <td>12</td>\n",
       "      <td>0</td>\n",
       "      <td>0</td>\n",
       "      <td>0</td>\n",
       "      <td>0</td>\n",
       "      <td>0</td>\n",
       "      <td>0</td>\n",
       "      <td>0</td>\n",
       "      <td>...</td>\n",
       "      <td>0</td>\n",
       "      <td>0</td>\n",
       "      <td>0</td>\n",
       "      <td>0</td>\n",
       "      <td>0</td>\n",
       "      <td>0</td>\n",
       "      <td>0</td>\n",
       "      <td>0</td>\n",
       "      <td>0</td>\n",
       "      <td>0</td>\n",
       "    </tr>\n",
       "    <tr>\n",
       "      <th>2</th>\n",
       "      <td>81</td>\n",
       "      <td>4</td>\n",
       "      <td>10</td>\n",
       "      <td>0</td>\n",
       "      <td>0</td>\n",
       "      <td>0</td>\n",
       "      <td>0</td>\n",
       "      <td>0</td>\n",
       "      <td>0</td>\n",
       "      <td>0</td>\n",
       "      <td>...</td>\n",
       "      <td>0</td>\n",
       "      <td>0</td>\n",
       "      <td>0</td>\n",
       "      <td>0</td>\n",
       "      <td>0</td>\n",
       "      <td>0</td>\n",
       "      <td>0</td>\n",
       "      <td>0</td>\n",
       "      <td>0</td>\n",
       "      <td>0</td>\n",
       "    </tr>\n",
       "    <tr>\n",
       "      <th>3</th>\n",
       "      <td>84</td>\n",
       "      <td>6</td>\n",
       "      <td>1</td>\n",
       "      <td>0</td>\n",
       "      <td>0</td>\n",
       "      <td>0</td>\n",
       "      <td>0</td>\n",
       "      <td>0</td>\n",
       "      <td>0</td>\n",
       "      <td>0</td>\n",
       "      <td>...</td>\n",
       "      <td>0</td>\n",
       "      <td>0</td>\n",
       "      <td>0</td>\n",
       "      <td>0</td>\n",
       "      <td>0</td>\n",
       "      <td>0</td>\n",
       "      <td>0</td>\n",
       "      <td>0</td>\n",
       "      <td>0</td>\n",
       "      <td>0</td>\n",
       "    </tr>\n",
       "    <tr>\n",
       "      <th>4</th>\n",
       "      <td>36</td>\n",
       "      <td>3</td>\n",
       "      <td>3</td>\n",
       "      <td>0</td>\n",
       "      <td>0</td>\n",
       "      <td>0</td>\n",
       "      <td>0</td>\n",
       "      <td>0</td>\n",
       "      <td>0</td>\n",
       "      <td>0</td>\n",
       "      <td>...</td>\n",
       "      <td>0</td>\n",
       "      <td>0</td>\n",
       "      <td>0</td>\n",
       "      <td>0</td>\n",
       "      <td>0</td>\n",
       "      <td>0</td>\n",
       "      <td>0</td>\n",
       "      <td>0</td>\n",
       "      <td>0</td>\n",
       "      <td>0</td>\n",
       "    </tr>\n",
       "  </tbody>\n",
       "</table>\n",
       "<p>5 rows × 4099 columns</p>\n",
       "</div>"
      ],
      "text/plain": [
       "   suite_id  sample_id  code  pixel_0  pixel_1  pixel_2  pixel_3  pixel_4  \\\n",
       "0        69          2     7        0        0        0        0        0   \n",
       "1        11          7    12        0        0        0        0        0   \n",
       "2        81          4    10        0        0        0        0        0   \n",
       "3        84          6     1        0        0        0        0        0   \n",
       "4        36          3     3        0        0        0        0        0   \n",
       "\n",
       "   pixel_5  pixel_6  ...  pixel_4086  pixel_4087  pixel_4088  pixel_4089  \\\n",
       "0        0        0  ...           0           0           0           0   \n",
       "1        0        0  ...           0           0           0           0   \n",
       "2        0        0  ...           0           0           0           0   \n",
       "3        0        0  ...           0           0           0           0   \n",
       "4        0        0  ...           0           0           0           0   \n",
       "\n",
       "   pixel_4090  pixel_4091  pixel_4092  pixel_4093  pixel_4094  pixel_4095  \n",
       "0           0           0           0           0           0           0  \n",
       "1           0           0           0           0           0           0  \n",
       "2           0           0           0           0           0           0  \n",
       "3           0           0           0           0           0           0  \n",
       "4           0           0           0           0           0           0  \n",
       "\n",
       "[5 rows x 4099 columns]"
      ]
     },
     "execution_count": 58,
     "metadata": {},
     "output_type": "execute_result"
    }
   ],
   "source": [
    "# Convert the data folder to a dataframe\n",
    "data_df = conv_data_folder_to_df('./data/')\n",
    "data_df.head()"
   ]
  },
  {
   "attachments": {},
   "cell_type": "markdown",
   "id": "cf9b0e17",
   "metadata": {},
   "source": [
    "### Take a brief look at the data"
   ]
  },
  {
   "cell_type": "code",
   "execution_count": 59,
   "id": "ae20a44a",
   "metadata": {},
   "outputs": [
    {
     "name": "stdout",
     "output_type": "stream",
     "text": [
      "data shape (15000, 5)\n",
      "\n",
      "numerical: ['suite_id' 'sample_id' 'code' 'value']\n",
      "\n",
      "categorical: ['character']\n"
     ]
    },
    {
     "data": {
      "text/plain": [
       "suite_id      int64\n",
       "sample_id     int64\n",
       "code          int64\n",
       "value         int64\n",
       "character    object\n",
       "dtype: object"
      ]
     },
     "execution_count": 59,
     "metadata": {},
     "output_type": "execute_result"
    }
   ],
   "source": [
    "print('data shape', data.shape)\n",
    "print()\n",
    "num_vars = data.columns [data.dtypes != 'object']\n",
    "cat_vars = data.columns [data.dtypes == 'object']\n",
    "print ('numerical:', num_vars.values)\n",
    "print()\n",
    "print('categorical:', cat_vars.values)\n",
    "data.dtypes"
   ]
  },
  {
   "attachments": {},
   "cell_type": "markdown",
   "id": "9a97a4b8",
   "metadata": {},
   "source": [
    "### [1.5 points] Data Reduction 👌: \n",
    "<span style=\"color:red\">\n",
    "[.5 points] Perform linear dimensionality reduction of the images using principal components analysis. Visualize the explained variance of each component. Analyze how many dimensions are required to adequately represent your image data. Explain your analysis and conclusion.\n",
    "</span>"
   ]
  },
  {
   "cell_type": "code",
   "execution_count": null,
   "id": "e46b225c",
   "metadata": {},
   "outputs": [],
   "source": []
  },
  {
   "attachments": {},
   "cell_type": "markdown",
   "id": "7c4d140f",
   "metadata": {},
   "source": [
    "<span style=\"color:red\">\n",
    "[.5 points] Perform linear dimensionality reduction of your image data using randomized principle components analysis. Visualize the explained variance of each component. Analyze how many dimensions are required to adequately represent your image data. Explain your analysis and conclusion.\n",
    "</span>"
   ]
  },
  {
   "cell_type": "code",
   "execution_count": null,
   "id": "16cc4ac1",
   "metadata": {},
   "outputs": [],
   "source": []
  },
  {
   "attachments": {},
   "cell_type": "markdown",
   "id": "35d46407",
   "metadata": {},
   "source": [
    "<span style=\"color:red\">\n",
    "[2 points]  Compare the representation using PCA and Randomized PCA. The method you choose to compare dimensionality methods should quantitatively explain which method is better at representing the images with fewer components.  Do you prefer one method over another? Why?\n",
    "</span>"
   ]
  },
  {
   "cell_type": "code",
   "execution_count": null,
   "id": "e5a2faa7",
   "metadata": {},
   "outputs": [],
   "source": []
  },
  {
   "attachments": {},
   "cell_type": "markdown",
   "id": "383438fe",
   "metadata": {},
   "source": [
    "<span style=\"color:red\">\n",
    "[1 points] Perform feature extraction upon the images using DAISY. Try different parameters for your image data.\n",
    "</span>"
   ]
  },
  {
   "cell_type": "code",
   "execution_count": null,
   "id": "fe5f6cb4",
   "metadata": {},
   "outputs": [],
   "source": []
  },
  {
   "attachments": {},
   "cell_type": "markdown",
   "id": "77ba1061",
   "metadata": {},
   "source": [
    "<span style=\"color:red\">\n",
    "[2 points] Does this feature extraction method show promise for your prediction task? Why?\n",
    "</span>"
   ]
  },
  {
   "cell_type": "code",
   "execution_count": null,
   "id": "d2ef8e7d",
   "metadata": {},
   "outputs": [],
   "source": []
  },
  {
   "attachments": {},
   "cell_type": "markdown",
   "id": "4ebf21ae",
   "metadata": {},
   "source": [
    "<span style=\"color:red\">\n",
    "* Use visualizations to analyze this questions. For example, use a heat map of the pairwise differences (ordered by class) among all extracted features. Another option, build a nearest neighbor classifier to see actual classification performance.  \n",
    "</span>"
   ]
  },
  {
   "cell_type": "code",
   "execution_count": null,
   "id": "e6f77635",
   "metadata": {},
   "outputs": [],
   "source": []
  },
  {
   "attachments": {},
   "cell_type": "markdown",
   "id": "aaeeb861",
   "metadata": {},
   "source": [
    "# Exceptional Work (1 points total)\n",
    "<span style=\"color:red\">\n",
    "(0.4) The overall quality of the report as a coherent, useful, and polished product will be reflected here. Does it make sense overall? Do your visualizations answer the questions you put forth in your business analysis? Do you properly and consistently cite sources and annotate changes made to base code? Do you provide specific reasons for your assumptions? Do subsequent questions follow naturally from initial exploration?\n",
    "</span>\n"
   ]
  },
  {
   "cell_type": "code",
   "execution_count": null,
   "id": "c1a1a8df",
   "metadata": {},
   "outputs": [],
   "source": []
  },
  {
   "attachments": {},
   "cell_type": "markdown",
   "id": "4a33316c",
   "metadata": {},
   "source": [
    "<span style=\"color:red\">\n",
    "(0.6) Additional analysis\n",
    "(5000 level) You have free rein to provide any additional analyses and visualizations appropriate to your data.\n",
    "</span>"
   ]
  },
  {
   "cell_type": "code",
   "execution_count": null,
   "id": "8ae717a0",
   "metadata": {},
   "outputs": [],
   "source": []
  }
 ],
 "metadata": {
  "kernelspec": {
   "display_name": "Python 3",
   "language": "python",
   "name": "python3"
  },
  "language_info": {
   "codemirror_mode": {
    "name": "ipython",
    "version": 3
   },
   "file_extension": ".py",
   "mimetype": "text/x-python",
   "name": "python",
   "nbconvert_exporter": "python",
   "pygments_lexer": "ipython3",
   "version": "3.9.7"
  },
  "vscode": {
   "interpreter": {
    "hash": "38cca0c38332a56087b24af0bc80247f4fced29cb4f7f437d91dc159adec9c4e"
   }
  }
 },
 "nbformat": 4,
 "nbformat_minor": 5
}
