{
 "cells": [
  {
   "attachments": {},
   "cell_type": "markdown",
   "id": "24752109",
   "metadata": {},
   "source": [
    "# Lab Two: Images!\n",
    "## Caleb Moore, Blake Gebhardt, Christian Gould\n",
    "\n",
    "Data Source: https://www.kaggle.com/datasets/olavomendes/cars-vs-flowers"
   ]
  },
  {
   "cell_type": "code",
   "execution_count": 120,
   "id": "f8d7f632",
   "metadata": {},
   "outputs": [],
   "source": [
    "# Imports\n",
    "import pandas as pd\n",
    "import numpy as np\n",
    "from PIL import Image\n",
    "import os\n",
    "from sklearn.decomposition import PCA\n",
    "from sklearn.preprocessing import StandardScaler\n",
    "import matplotlib.pyplot as plt\n",
    "from skimage.io import imshow\n",
    "from skimage.feature import daisy\n",
    "import time"
   ]
  },
  {
   "cell_type": "code",
   "execution_count": 121,
   "id": "a46d7e70",
   "metadata": {},
   "outputs": [
    {
     "data": {
      "text/html": [
       "<script>\n",
       "code_show_err=false; \n",
       "function code_toggle_err() {\n",
       " if (code_show_err){\n",
       " $('div.output_stderr').hide();\n",
       " } else {\n",
       " $('div.output_stderr').show();\n",
       " }\n",
       " code_show_err = !code_show_err\n",
       "} \n",
       "$( document ).ready(code_toggle_err);\n",
       "</script>\n",
       "To toggle on/off output_stderr, click <a href=\"javascript:code_toggle_err()\">here</a>."
      ],
      "text/plain": [
       "<IPython.core.display.HTML object>"
      ]
     },
     "execution_count": 121,
     "metadata": {},
     "output_type": "execute_result"
    }
   ],
   "source": [
    "# Notebook setup\n",
    "from IPython.display import HTML\n",
    "HTML('''<script>\n",
    "code_show_err=false; \n",
    "function code_toggle_err() {\n",
    " if (code_show_err){\n",
    " $('div.output_stderr').hide();\n",
    " } else {\n",
    " $('div.output_stderr').show();\n",
    " }\n",
    " code_show_err = !code_show_err\n",
    "} \n",
    "$( document ).ready(code_toggle_err);\n",
    "</script>\n",
    "To toggle on/off output_stderr, click <a href=\"javascript:code_toggle_err()\">here</a>.''')"
   ]
  },
  {
   "attachments": {},
   "cell_type": "markdown",
   "id": "26752583",
   "metadata": {},
   "source": [
    "# 💰 Business Understanding (2 points total).\n",
    "* Give an overview of the dataset. Describe the purpose of the data set you selected (i.e., why was this data collected in the first place?). What is the prediction task for your dataset and which third parties would be interested in the results? Why is this data important? Once you begin modeling, how well would your prediction algorithm need to perform to be considered useful to the identified third parties? Be specific and use your own words to describe the aspects of the data. "
   ]
  },
  {
   "attachments": {},
   "cell_type": "markdown",
   "id": "eaeaeddd",
   "metadata": {},
   "source": [
    "### Purpose of the Dataset\n",
    "* The purpose of the dataset is to be able to read and recognize images of automobiles and flowers. Since this is just an exercise in image processing, we decided to build something that would be able to determine the difference between a car and a flower. This is a dataset initially posted at Deep Learning with Keras Workshop and contains 2000 images of cars and 2000 images of flowers for training and testing.\n",
    "\n",
    "### Prediction Task\n",
    "* The prediction task is exactly what the dataset was originally collected for. We want to be able to predict if a given image depicts either a car or a flower. This should be a fairly simple classification task. We hope to be able to predict with an accuracy of at least 70%.\n",
    "\n",
    "### Third Parties\n",
    "* Other third parties that may be interested are companies that store the photos of users. Classifying the subject of an image would allow a user to quickly search for photos of a certain subject. Google Photos and Apple both use similar versions of this kind of image analysis. Cars are a common CAPTCHA check. If we can create a program that predicts with enough accuracy, third parties interested in bypassing anti-bot software may be interested. However, for our program to be viable, it must be able to predict correctly at least 90% of the time. It would need to be indistinguishable from a human, which is much too high of a bar. "
   ]
  },
  {
   "attachments": {},
   "cell_type": "markdown",
   "id": "5db44459",
   "metadata": {},
   "source": [
    "# 📊 Data Preparation"
   ]
  },
  {
   "attachments": {},
   "cell_type": "markdown",
   "id": "0bc2925f",
   "metadata": {},
   "source": [
    "* [.5 points] Read in your images as numpy arrays. Resize and recolor images as necessary."
   ]
  },
  {
   "cell_type": "code",
   "execution_count": 122,
   "id": "18516c4d",
   "metadata": {},
   "outputs": [],
   "source": [
    "# Function to convert an image to a 1 dimensional array, given the image path\n",
    "IMG_SIZE = 100\n",
    "\n",
    "def conv_img_to_array(img_path):\n",
    "    img = Image.open(img_path)\n",
    "    # Convert to grayscale\n",
    "    img = img.convert('L')\n",
    "\n",
    "    # Adjust the size\n",
    "    img = img.resize((IMG_SIZE, IMG_SIZE))\n",
    "\n",
    "    # Convert to numpy array\n",
    "    img_array = np.array(img)\n",
    "\n",
    "    # Flatten the array\n",
    "    img_array = img_array.flatten()\n",
    "    return img_array"
   ]
  },
  {
   "attachments": {},
   "cell_type": "markdown",
   "id": "ca7cbc2e",
   "metadata": {},
   "source": [
    "* [.4 points] Linearize the images to create a table of 1-D image features (each row should be one image).   "
   ]
  },
  {
   "cell_type": "code",
   "execution_count": 123,
   "id": "55597a45",
   "metadata": {},
   "outputs": [],
   "source": [
    "def conv_data_folder_to_df(df, dataFolderPath, title, limit=None):\n",
    "\n",
    "    # Create an empty list to store the image arrays\n",
    "    img_array_list = []\n",
    "\n",
    "    # Loop over all the images in the folder for limited number of them\n",
    "    count = 0\n",
    "    for img_path in os.listdir(dataFolderPath):\n",
    "        if limit is not None and count == limit:\n",
    "            break\n",
    "        # Convert the image to a 1 dimensional array\n",
    "        img_array = conv_img_to_array(dataFolderPath + img_path)\n",
    "\n",
    "        # Add the suite_id, sample_id, and code to the front of the array\n",
    "        img_array = np.append(title, img_array)\n",
    "\n",
    "        # Add it to the list\n",
    "        img_array_list.append(img_array)\n",
    "        count += 1\n",
    "\n",
    "    # Convert the list to a dataframe\n",
    "    new_one = pd.DataFrame(img_array_list)\n",
    "    return pd.concat([df,new_one], ignore_index=True)"
   ]
  },
  {
   "attachments": {},
   "cell_type": "markdown",
   "id": "f711d9dd",
   "metadata": {},
   "source": [
    "* [.1 points] Visualize several images."
   ]
  },
  {
   "cell_type": "code",
   "execution_count": 124,
   "id": "d684f8a2",
   "metadata": {},
   "outputs": [],
   "source": [
    "# Given a flattened array of pixel values, display the image\n",
    "def visualize_array(img_array):\n",
    "    # Reshape the array to 64x64\n",
    "    img_array = img_array.reshape(IMG_SIZE, IMG_SIZE)\n",
    "\n",
    "    # Convert the array to an image\n",
    "    img = Image.fromarray(img_array)\n",
    "\n",
    "    # Display the image\n",
    "    display(img)"
   ]
  },
  {
   "cell_type": "code",
   "execution_count": 125,
   "id": "56c234f8",
   "metadata": {},
   "outputs": [
    {
     "name": "stdout",
     "output_type": "stream",
     "text": [
      "array form:  [111 118 112 ... 223 224 224]\n"
     ]
    },
    {
     "data": {
      "image/png": "[encoded data removed]",
      "text/plain": [
       "<PIL.Image.Image image mode=L size=100x100>"
      ]
     },
     "metadata": {},
     "output_type": "display_data"
    }
   ],
   "source": [
    "# Visualize an image\n",
    "img_1 = 'smallSet/first.jpg'\n",
    "img_1_arr = conv_img_to_array(img_1)\n",
    "print(\"array form: \", img_1_arr)\n",
    "visualize_array(img_1_arr)"
   ]
  },
  {
   "cell_type": "code",
   "execution_count": 126,
   "id": "c0ad4ec6",
   "metadata": {},
   "outputs": [
    {
     "name": "stdout",
     "output_type": "stream",
     "text": [
      "array form:  [255 255 255 ... 255 255 255]\n",
      "array size:  10000\n"
     ]
    },
    {
     "data": {
      "image/png": "[encoded data removed]",
      "text/plain": [
       "<PIL.Image.Image image mode=L size=100x100>"
      ]
     },
     "metadata": {},
     "output_type": "display_data"
    }
   ],
   "source": [
    "# Visualize another image\n",
    "img_2 = 'smallSet/second.jpg'\n",
    "img_2_arr = conv_img_to_array(img_2)\n",
    "print(\"array form: \", img_2_arr)\n",
    "print(\"array size: \", img_2_arr.size)\n",
    "visualize_array(img_2_arr)"
   ]
  },
  {
   "cell_type": "code",
   "execution_count": 127,
   "id": "0cbcca42",
   "metadata": {},
   "outputs": [
    {
     "name": "stdout",
     "output_type": "stream",
     "text": [
      "array form:  [186 186 182 ... 145 136 135]\n"
     ]
    },
    {
     "data": {
      "image/png": "[encoded data removed]",
      "text/plain": [
       "<PIL.Image.Image image mode=L size=100x100>"
      ]
     },
     "metadata": {},
     "output_type": "display_data"
    }
   ],
   "source": [
    "# Visualize a final image\n",
    "img_3 = 'smallSet/third.jpg'\n",
    "img_3_arr = conv_img_to_array(img_3)\n",
    "print(\"array form: \", img_3_arr)\n",
    "visualize_array(img_3_arr)"
   ]
  },
  {
   "attachments": {},
   "cell_type": "markdown",
   "id": "0cdd84bb",
   "metadata": {},
   "source": [
    "### Read in our image data and csv data"
   ]
  },
  {
   "cell_type": "code",
   "execution_count": 128,
   "id": "0fe58597",
   "metadata": {},
   "outputs": [
    {
     "data": {
      "text/html": [
       "<div>\n",
       "<style scoped>\n",
       "    .dataframe tbody tr th:only-of-type {\n",
       "        vertical-align: middle;\n",
       "    }\n",
       "\n",
       "    .dataframe tbody tr th {\n",
       "        vertical-align: top;\n",
       "    }\n",
       "\n",
       "    .dataframe thead th {\n",
       "        text-align: right;\n",
       "    }\n",
       "</style>\n",
       "<table border=\"1\" class=\"dataframe\">\n",
       "  <thead>\n",
       "    <tr style=\"text-align: right;\">\n",
       "      <th></th>\n",
       "      <th>target</th>\n",
       "      <th>1</th>\n",
       "      <th>2</th>\n",
       "      <th>3</th>\n",
       "      <th>4</th>\n",
       "      <th>5</th>\n",
       "      <th>6</th>\n",
       "      <th>7</th>\n",
       "      <th>8</th>\n",
       "      <th>9</th>\n",
       "      <th>...</th>\n",
       "      <th>9991</th>\n",
       "      <th>9992</th>\n",
       "      <th>9993</th>\n",
       "      <th>9994</th>\n",
       "      <th>9995</th>\n",
       "      <th>9996</th>\n",
       "      <th>9997</th>\n",
       "      <th>9998</th>\n",
       "      <th>9999</th>\n",
       "      <th>10000</th>\n",
       "    </tr>\n",
       "  </thead>\n",
       "  <tbody>\n",
       "    <tr>\n",
       "      <th>0</th>\n",
       "      <td>car</td>\n",
       "      <td>71</td>\n",
       "      <td>34</td>\n",
       "      <td>60</td>\n",
       "      <td>119</td>\n",
       "      <td>55</td>\n",
       "      <td>104</td>\n",
       "      <td>160</td>\n",
       "      <td>100</td>\n",
       "      <td>70</td>\n",
       "      <td>...</td>\n",
       "      <td>48</td>\n",
       "      <td>65</td>\n",
       "      <td>61</td>\n",
       "      <td>23</td>\n",
       "      <td>54</td>\n",
       "      <td>79</td>\n",
       "      <td>79</td>\n",
       "      <td>36</td>\n",
       "      <td>63</td>\n",
       "      <td>86</td>\n",
       "    </tr>\n",
       "    <tr>\n",
       "      <th>1</th>\n",
       "      <td>car</td>\n",
       "      <td>142</td>\n",
       "      <td>117</td>\n",
       "      <td>109</td>\n",
       "      <td>92</td>\n",
       "      <td>108</td>\n",
       "      <td>135</td>\n",
       "      <td>135</td>\n",
       "      <td>194</td>\n",
       "      <td>232</td>\n",
       "      <td>...</td>\n",
       "      <td>3</td>\n",
       "      <td>5</td>\n",
       "      <td>14</td>\n",
       "      <td>11</td>\n",
       "      <td>11</td>\n",
       "      <td>11</td>\n",
       "      <td>13</td>\n",
       "      <td>14</td>\n",
       "      <td>12</td>\n",
       "      <td>10</td>\n",
       "    </tr>\n",
       "    <tr>\n",
       "      <th>2</th>\n",
       "      <td>car</td>\n",
       "      <td>149</td>\n",
       "      <td>149</td>\n",
       "      <td>150</td>\n",
       "      <td>150</td>\n",
       "      <td>151</td>\n",
       "      <td>151</td>\n",
       "      <td>151</td>\n",
       "      <td>151</td>\n",
       "      <td>151</td>\n",
       "      <td>...</td>\n",
       "      <td>140</td>\n",
       "      <td>142</td>\n",
       "      <td>141</td>\n",
       "      <td>141</td>\n",
       "      <td>140</td>\n",
       "      <td>138</td>\n",
       "      <td>131</td>\n",
       "      <td>138</td>\n",
       "      <td>150</td>\n",
       "      <td>152</td>\n",
       "    </tr>\n",
       "    <tr>\n",
       "      <th>3</th>\n",
       "      <td>car</td>\n",
       "      <td>221</td>\n",
       "      <td>224</td>\n",
       "      <td>225</td>\n",
       "      <td>225</td>\n",
       "      <td>225</td>\n",
       "      <td>228</td>\n",
       "      <td>231</td>\n",
       "      <td>232</td>\n",
       "      <td>232</td>\n",
       "      <td>...</td>\n",
       "      <td>126</td>\n",
       "      <td>147</td>\n",
       "      <td>122</td>\n",
       "      <td>124</td>\n",
       "      <td>114</td>\n",
       "      <td>109</td>\n",
       "      <td>106</td>\n",
       "      <td>109</td>\n",
       "      <td>109</td>\n",
       "      <td>91</td>\n",
       "    </tr>\n",
       "    <tr>\n",
       "      <th>4</th>\n",
       "      <td>car</td>\n",
       "      <td>60</td>\n",
       "      <td>64</td>\n",
       "      <td>66</td>\n",
       "      <td>57</td>\n",
       "      <td>29</td>\n",
       "      <td>32</td>\n",
       "      <td>57</td>\n",
       "      <td>61</td>\n",
       "      <td>42</td>\n",
       "      <td>...</td>\n",
       "      <td>169</td>\n",
       "      <td>166</td>\n",
       "      <td>163</td>\n",
       "      <td>161</td>\n",
       "      <td>159</td>\n",
       "      <td>157</td>\n",
       "      <td>157</td>\n",
       "      <td>155</td>\n",
       "      <td>153</td>\n",
       "      <td>153</td>\n",
       "    </tr>\n",
       "    <tr>\n",
       "      <th>5</th>\n",
       "      <td>car</td>\n",
       "      <td>203</td>\n",
       "      <td>159</td>\n",
       "      <td>156</td>\n",
       "      <td>154</td>\n",
       "      <td>157</td>\n",
       "      <td>160</td>\n",
       "      <td>156</td>\n",
       "      <td>206</td>\n",
       "      <td>223</td>\n",
       "      <td>...</td>\n",
       "      <td>76</td>\n",
       "      <td>37</td>\n",
       "      <td>17</td>\n",
       "      <td>17</td>\n",
       "      <td>24</td>\n",
       "      <td>24</td>\n",
       "      <td>24</td>\n",
       "      <td>22</td>\n",
       "      <td>19</td>\n",
       "      <td>23</td>\n",
       "    </tr>\n",
       "    <tr>\n",
       "      <th>6</th>\n",
       "      <td>car</td>\n",
       "      <td>187</td>\n",
       "      <td>187</td>\n",
       "      <td>187</td>\n",
       "      <td>187</td>\n",
       "      <td>187</td>\n",
       "      <td>187</td>\n",
       "      <td>190</td>\n",
       "      <td>190</td>\n",
       "      <td>191</td>\n",
       "      <td>...</td>\n",
       "      <td>177</td>\n",
       "      <td>177</td>\n",
       "      <td>171</td>\n",
       "      <td>169</td>\n",
       "      <td>177</td>\n",
       "      <td>176</td>\n",
       "      <td>176</td>\n",
       "      <td>176</td>\n",
       "      <td>178</td>\n",
       "      <td>179</td>\n",
       "    </tr>\n",
       "    <tr>\n",
       "      <th>7</th>\n",
       "      <td>car</td>\n",
       "      <td>158</td>\n",
       "      <td>135</td>\n",
       "      <td>121</td>\n",
       "      <td>103</td>\n",
       "      <td>90</td>\n",
       "      <td>81</td>\n",
       "      <td>73</td>\n",
       "      <td>78</td>\n",
       "      <td>61</td>\n",
       "      <td>...</td>\n",
       "      <td>67</td>\n",
       "      <td>72</td>\n",
       "      <td>73</td>\n",
       "      <td>72</td>\n",
       "      <td>71</td>\n",
       "      <td>69</td>\n",
       "      <td>67</td>\n",
       "      <td>66</td>\n",
       "      <td>68</td>\n",
       "      <td>69</td>\n",
       "    </tr>\n",
       "    <tr>\n",
       "      <th>8</th>\n",
       "      <td>car</td>\n",
       "      <td>226</td>\n",
       "      <td>220</td>\n",
       "      <td>219</td>\n",
       "      <td>225</td>\n",
       "      <td>225</td>\n",
       "      <td>220</td>\n",
       "      <td>215</td>\n",
       "      <td>215</td>\n",
       "      <td>214</td>\n",
       "      <td>...</td>\n",
       "      <td>154</td>\n",
       "      <td>157</td>\n",
       "      <td>158</td>\n",
       "      <td>151</td>\n",
       "      <td>147</td>\n",
       "      <td>149</td>\n",
       "      <td>147</td>\n",
       "      <td>160</td>\n",
       "      <td>157</td>\n",
       "      <td>153</td>\n",
       "    </tr>\n",
       "    <tr>\n",
       "      <th>9</th>\n",
       "      <td>car</td>\n",
       "      <td>0</td>\n",
       "      <td>0</td>\n",
       "      <td>0</td>\n",
       "      <td>0</td>\n",
       "      <td>0</td>\n",
       "      <td>0</td>\n",
       "      <td>0</td>\n",
       "      <td>0</td>\n",
       "      <td>0</td>\n",
       "      <td>...</td>\n",
       "      <td>25</td>\n",
       "      <td>18</td>\n",
       "      <td>13</td>\n",
       "      <td>11</td>\n",
       "      <td>11</td>\n",
       "      <td>10</td>\n",
       "      <td>10</td>\n",
       "      <td>10</td>\n",
       "      <td>9</td>\n",
       "      <td>9</td>\n",
       "    </tr>\n",
       "  </tbody>\n",
       "</table>\n",
       "<p>10 rows × 10001 columns</p>\n",
       "</div>"
      ],
      "text/plain": [
       "  target    1    2    3    4    5    6    7    8    9  ... 9991 9992 9993  \\\n",
       "0    car   71   34   60  119   55  104  160  100   70  ...   48   65   61   \n",
       "1    car  142  117  109   92  108  135  135  194  232  ...    3    5   14   \n",
       "2    car  149  149  150  150  151  151  151  151  151  ...  140  142  141   \n",
       "3    car  221  224  225  225  225  228  231  232  232  ...  126  147  122   \n",
       "4    car   60   64   66   57   29   32   57   61   42  ...  169  166  163   \n",
       "5    car  203  159  156  154  157  160  156  206  223  ...   76   37   17   \n",
       "6    car  187  187  187  187  187  187  190  190  191  ...  177  177  171   \n",
       "7    car  158  135  121  103   90   81   73   78   61  ...   67   72   73   \n",
       "8    car  226  220  219  225  225  220  215  215  214  ...  154  157  158   \n",
       "9    car    0    0    0    0    0    0    0    0    0  ...   25   18   13   \n",
       "\n",
       "  9994 9995 9996 9997 9998 9999 10000  \n",
       "0   23   54   79   79   36   63    86  \n",
       "1   11   11   11   13   14   12    10  \n",
       "2  141  140  138  131  138  150   152  \n",
       "3  124  114  109  106  109  109    91  \n",
       "4  161  159  157  157  155  153   153  \n",
       "5   17   24   24   24   22   19    23  \n",
       "6  169  177  176  176  176  178   179  \n",
       "7   72   71   69   67   66   68    69  \n",
       "8  151  147  149  147  160  157   153  \n",
       "9   11   11   10   10   10    9     9  \n",
       "\n",
       "[10 rows x 10001 columns]"
      ]
     },
     "execution_count": 128,
     "metadata": {},
     "output_type": "execute_result"
    }
   ],
   "source": [
    "# Convert the data folder to a dataframe\n",
    "TRAINING_DF_SIZE = 100\n",
    "\n",
    "df = pd.DataFrame()\n",
    "df = conv_data_folder_to_df(df, './training_set/car/', 'car', TRAINING_DF_SIZE)\n",
    "df = conv_data_folder_to_df(df, './training_set/flower/', 'flower', TRAINING_DF_SIZE)\n",
    "\n",
    "# Rename the first column to target\n",
    "df = df.rename({0: 'target'}, axis=1)\n",
    "df.head(10)"
   ]
  },
  {
   "attachments": {},
   "cell_type": "markdown",
   "id": "cf9b0e17",
   "metadata": {},
   "source": [
    "### Take a brief look at the data"
   ]
  },
  {
   "cell_type": "code",
   "execution_count": 129,
   "id": "ae20a44a",
   "metadata": {},
   "outputs": [
    {
     "name": "stdout",
     "output_type": "stream",
     "text": [
      "data shape (200, 10001)\n",
      "\n",
      "numerical: []\n",
      "\n",
      "categorical: ['target' 1 2 ... 9998 9999 10000]\n"
     ]
    },
    {
     "data": {
      "text/plain": [
       "target    object\n",
       "1         object\n",
       "2         object\n",
       "3         object\n",
       "4         object\n",
       "           ...  \n",
       "9996      object\n",
       "9997      object\n",
       "9998      object\n",
       "9999      object\n",
       "10000     object\n",
       "Length: 10001, dtype: object"
      ]
     },
     "execution_count": 129,
     "metadata": {},
     "output_type": "execute_result"
    }
   ],
   "source": [
    "print('data shape', df.shape)\n",
    "print()\n",
    "num_vars = df.columns [df.dtypes != 'object']\n",
    "cat_vars = df.columns [df.dtypes == 'object']\n",
    "print ('numerical:', num_vars.values)\n",
    "print()\n",
    "print('categorical:', cat_vars.values)\n",
    "df.dtypes"
   ]
  },
  {
   "attachments": {},
   "cell_type": "markdown",
   "id": "9a97a4b8",
   "metadata": {},
   "source": [
    "# [1.5 points] Data Reduction 👌: \n",
    "[.5 points] Perform linear dimensionality reduction of the images using principal components analysis. Visualize the explained variance of each component. Analyze how many dimensions are required to adequately represent your image data. Explain your analysis and conclusion."
   ]
  },
  {
   "attachments": {},
   "cell_type": "markdown",
   "id": "3e7704ff",
   "metadata": {},
   "source": [
    "### Initial PCA\n",
    "* What we want to do is find just how many dimensions are necessary to adequately represent our image data. We need to look at the PCA of the data with the original number of components and go from there.\n",
    "<br>\n",
    "* For our image data, because the values are from 0-255, and that scale of the data is consistent among all our features, we do not need to scale the data."
   ]
  },
  {
   "cell_type": "code",
   "execution_count": 130,
   "id": "8be1d33a",
   "metadata": {},
   "outputs": [],
   "source": [
    "# Standardize the data\n",
    "tempdf = df.copy()\n",
    "\n",
    "# Drop the target column, and store it for later analysis\n",
    "y = tempdf['target']\n",
    "x = tempdf.drop('target', axis=1)"
   ]
  },
  {
   "cell_type": "code",
   "execution_count": 131,
   "id": "e46b225c",
   "metadata": {},
   "outputs": [],
   "source": [
    "pca_orig_components = PCA(n_components=(min((IMG_SIZE * IMG_SIZE), (2*TRAINING_DF_SIZE))), svd_solver='full')\n",
    "principalComponents = pca_orig_components.fit_transform(x)"
   ]
  },
  {
   "attachments": {},
   "cell_type": "markdown",
   "id": "e80ec340",
   "metadata": {},
   "source": [
    "### Analysis of PCA\n",
    "* From below, it is clear to see that as we get higher and higher in the number of components, our variance increases over time. This is because we are adding more and more dimensions to our data, and the more dimensions we add, the more variance we will have.\n",
    "* We want to go for variance of around 95%, so we will go with 200 components."
   ]
  },
  {
   "cell_type": "code",
   "execution_count": 132,
   "id": "88c7f97c",
   "metadata": {},
   "outputs": [
    {
     "data": {
      "text/plain": [
       "Text(0, 0.5, 'Explained variance')"
      ]
     },
     "execution_count": 132,
     "metadata": {},
     "output_type": "execute_result"
    },
    {
     "data": {
      "image/png": "[encoded data removed]",
      "text/plain": [
       "<Figure size 640x480 with 1 Axes>"
      ]
     },
     "metadata": {},
     "output_type": "display_data"
    }
   ],
   "source": [
    "# Visualize the data\n",
    "plt.grid()\n",
    "plt.plot(np.cumsum(pca_orig_components.explained_variance_ratio_ * 100))\n",
    "plt.xlabel('Number of components')\n",
    "plt.ylabel('Explained variance')"
   ]
  },
  {
   "cell_type": "markdown",
   "id": "36a66974",
   "metadata": {},
   "source": []
  },
  {
   "attachments": {},
   "cell_type": "markdown",
   "id": "7c4d140f",
   "metadata": {},
   "source": [
    "[.5 points] Perform linear dimensionality reduction of your image data using randomized principle components analysis. Visualize the explained variance of each component. Analyze how many dimensions are required to adequately represent your image data. Explain your analysis and conclusion."
   ]
  },
  {
   "cell_type": "code",
   "execution_count": 133,
   "id": "1d104b15",
   "metadata": {},
   "outputs": [],
   "source": [
    "tempdf2 = df.copy()\n",
    "x2 = tempdf2.drop('target', axis=1)"
   ]
  },
  {
   "cell_type": "code",
   "execution_count": 134,
   "id": "16cc4ac1",
   "metadata": {},
   "outputs": [],
   "source": [
    "pca_randomized = PCA(n_components=(min((IMG_SIZE * IMG_SIZE), (2*TRAINING_DF_SIZE))), svd_solver='randomized')\n",
    "principalComponents = pca_randomized.fit_transform(x2)"
   ]
  },
  {
   "cell_type": "code",
   "execution_count": 135,
   "id": "cb2527e3",
   "metadata": {},
   "outputs": [
    {
     "data": {
      "text/plain": [
       "Text(0, 0.5, 'Explained variance')"
      ]
     },
     "execution_count": 135,
     "metadata": {},
     "output_type": "execute_result"
    },
    {
     "data": {
      "image/png": "[encoded data removed]",
      "text/plain": [
       "<Figure size 640x480 with 1 Axes>"
      ]
     },
     "metadata": {},
     "output_type": "display_data"
    }
   ],
   "source": [
    "# Visualize the data\n",
    "plt.grid()\n",
    "plt.plot(np.cumsum(pca_orig_components.explained_variance_ratio_ * 100))\n",
    "plt.xlabel('Number of components')\n",
    "plt.ylabel('Explained variance')"
   ]
  },
  {
   "attachments": {},
   "cell_type": "markdown",
   "id": "35d46407",
   "metadata": {},
   "source": [
    "[2 points]  Compare the representation using PCA and Randomized PCA. The method you choose to compare dimensionality methods should quantitatively explain which method is better at representing the images with fewer components.  Do you prefer one method over another? Why?"
   ]
  },
  {
   "attachments": {},
   "cell_type": "markdown",
   "id": "5002b3d5",
   "metadata": {},
   "source": [
    "### Analysis\n",
    "* When we look at the results below, we can see that the randomized PCA is able to achieve very close to what the full PCA was able to achieve in terms of variance. However, randomized PCA is much faster and memory efficient, so it is the better choice for this dataset. If we needed to squeeze out a little more variance, we could increase the number of components, but we would have to increase the time and memory it takes to run the algorithm.\n",
    "* For this reason, we will be using randomized PCA and 200 components so that we can quickly achieve over 95% variance"
   ]
  },
  {
   "cell_type": "code",
   "execution_count": 136,
   "id": "e5a2faa7",
   "metadata": {},
   "outputs": [
    {
     "data": {
      "text/plain": [
       "(70.0, 100.0)"
      ]
     },
     "execution_count": 136,
     "metadata": {},
     "output_type": "execute_result"
    },
    {
     "data": {
      "image/png": "[encoded data removed]",
      "text/plain": [
       "<Figure size 640x480 with 1 Axes>"
      ]
     },
     "metadata": {},
     "output_type": "display_data"
    }
   ],
   "source": [
    "# Plot the two methods on top of each other in one graph\n",
    "plt.grid()\n",
    "plt.plot(np.cumsum(pca_orig_components.explained_variance_ratio_ * 100), label='Original')\n",
    "plt.plot(np.cumsum(pca_randomized.explained_variance_ratio_ * 100), label='Randomized')\n",
    "plt.xlabel('Number of components')\n",
    "plt.ylabel('Explained variance')\n",
    "plt.legend()\n",
    "\n",
    "# Zoom in on the y values 70 to 100\n",
    "plt.ylim(70, 100)"
   ]
  },
  {
   "attachments": {},
   "cell_type": "markdown",
   "id": "92de6515",
   "metadata": {},
   "source": [
    "*The graph above is expected to have the lines be very close (They are actually on top of each other, thats why you cannot see the blue), and actually is a good thing, since that means that the randomized PCA is able to achieve very close to what the full PCA was able to achieve in terms of variance. Looking at the list below, you can see that the values are very close to each other, though the randomized achieves slightly less than the full.*"
   ]
  },
  {
   "cell_type": "code",
   "execution_count": 137,
   "id": "494ca20d",
   "metadata": {},
   "outputs": [
    {
     "name": "stdout",
     "output_type": "stream",
     "text": [
      "cumulative variance explained by components\n",
      "Full           vs         Randomized\n",
      "------------------------------------\n",
      "0.24467394423856328 0.24467394423856256\n",
      "0.36304056143068725 0.363040561430687\n",
      "0.4247741476489302 0.42477414764892985\n",
      "0.4724049326570539 0.4724049326570535\n",
      "0.5015935459133117 0.5015935459133114\n",
      "0.5245368680575946 0.5245368680575944\n",
      "0.5463820216664763 0.5463820216664761\n",
      "0.563795092652598 0.5637950926525978\n",
      "0.5802902790087178 0.5802902790087175\n",
      "0.5951820356063133 0.5951820356063131\n",
      "0.6084068960275447 0.6084068960275444\n",
      "0.6206505088891211 0.6206505088891209\n",
      "0.6314725436502706 0.6314725436502704\n",
      "0.6419812652084388 0.6419812652084386\n",
      "0.651692209360198 0.6516922093601978\n",
      "0.6611112786323783 0.6611112786323782\n",
      "0.6698300861315226 0.6698300861315225\n",
      "0.6777591105579116 0.6777591105579115\n",
      "0.6853941355585654 0.6853941355585653\n",
      "0.6929138905155753 0.6929138905155752\n",
      "0.6996615736764663 0.6996615736764662\n",
      "0.7060589083995709 0.7060589083995708\n",
      "0.7120835390814806 0.7120835390814805\n",
      "0.7179967053931536 0.7179967053931535\n",
      "0.7237436344191239 0.7237436344191238\n",
      "0.7293472690346868 0.7293472690346867\n",
      "0.7346694274873212 0.7346694274873211\n",
      "0.7397132731299885 0.7397132731299884\n",
      "0.744590334140509 0.7445903341405089\n",
      "0.7493488927069997 0.7493488927069996\n",
      "0.7539992226866907 0.7539992226866906\n",
      "0.7584959173861676 0.7584959173861675\n",
      "0.7628657003521174 0.7628657003521173\n",
      "0.7670365687248301 0.76703656872483\n",
      "0.771164295291192 0.7711642952911919\n",
      "0.7752326427258531 0.775232642725853\n",
      "0.7791642528459662 0.7791642528459661\n",
      "0.7829819184197383 0.7829819184197381\n",
      "0.7867043949198679 0.7867043949198677\n",
      "0.7902688230804454 0.7902688230804452\n",
      "0.7937832144999578 0.7937832144999576\n",
      "0.7972509210752735 0.7972509210752733\n",
      "0.8005707012957477 0.8005707012957475\n",
      "0.8038551899373432 0.803855189937343\n",
      "0.8070763170771426 0.8070763170771423\n",
      "0.8102326645451331 0.8102326645451329\n",
      "0.813302743724365 0.8133027437243647\n",
      "0.8163499649121944 0.8163499649121941\n",
      "0.8192686470167685 0.8192686470167683\n",
      "0.8221661583403603 0.8221661583403601\n",
      "0.824980880617157 0.8249808806171568\n",
      "0.8277493692310287 0.8277493692310285\n",
      "0.8304752056406921 0.8304752056406919\n",
      "0.8331578188485411 0.8331578188485409\n",
      "0.8357615458179692 0.835761545817969\n",
      "0.8383194148000886 0.8383194148000884\n",
      "0.8408216734348781 0.8408216734348779\n",
      "0.8433080779338468 0.8433080779338465\n",
      "0.8457361969493415 0.8457361969493413\n",
      "0.8481442011955351 0.8481442011955349\n",
      "0.8505278632022392 0.8505278632022389\n",
      "0.8528552923835497 0.8528552923835495\n",
      "0.8551556132092051 0.8551556132092049\n",
      "0.8574057852789329 0.8574057852789326\n",
      "0.8596251716424635 0.8596251716424633\n",
      "0.8618032351583041 0.8618032351583039\n",
      "0.8639663618747926 0.8639663618747924\n",
      "0.8660978114106122 0.8660978114106119\n",
      "0.8682105745664634 0.8682105745664632\n",
      "0.870305503969602 0.8703055039696018\n",
      "0.8723335551568394 0.8723335551568392\n",
      "0.8743401253889674 0.8743401253889672\n",
      "0.8763340072972261 0.8763340072972259\n",
      "0.8782950739243963 0.8782950739243961\n",
      "0.8802428261251086 0.8802428261251084\n",
      "0.8821477490727457 0.8821477490727455\n",
      "0.8840192830216237 0.8840192830216235\n",
      "0.8858612683095822 0.885861268309582\n",
      "0.8876997129037592 0.8876997129037589\n",
      "0.8894992448170903 0.8894992448170901\n",
      "0.891293590544469 0.8912935905444688\n",
      "0.8930572244194576 0.8930572244194573\n",
      "0.894807391703496 0.8948073917034958\n",
      "0.8965354638235268 0.8965354638235266\n",
      "0.8982352679871114 0.8982352679871112\n",
      "0.8998972214602543 0.8998972214602541\n",
      "0.9015434347991889 0.9015434347991886\n",
      "0.9031709609698888 0.9031709609698886\n",
      "0.9047924309637124 0.9047924309637122\n",
      "0.9063974520610556 0.9063974520610554\n",
      "0.907966660934231 0.9079666609342307\n",
      "0.9095195223634476 0.9095195223634474\n",
      "0.911056543551145 0.9110565435511447\n",
      "0.9125530250396877 0.9125530250396875\n",
      "0.9140462252218828 0.9140462252218826\n",
      "0.9155272839503603 0.9155272839503601\n",
      "0.9169938891046353 0.9169938891046351\n",
      "0.9184586224771655 0.9184586224771653\n",
      "0.9198973912720336 0.9198973912720334\n",
      "0.9213190455668334 0.9213190455668332\n",
      "0.9226956241919123 0.9226956241919121\n",
      "0.9240607346964058 0.9240607346964056\n",
      "0.9254153019210399 0.9254153019210397\n",
      "0.9267409443744782 0.926740944374478\n",
      "0.9280489710403369 0.9280489710403367\n",
      "0.929355296135506 0.9293552961355058\n",
      "0.9306421550955423 0.930642155095542\n",
      "0.9319190228607823 0.931919022860782\n",
      "0.9331669292058485 0.9331669292058482\n",
      "0.9344045017796531 0.9344045017796527\n",
      "0.9356339598066318 0.9356339598066314\n",
      "0.9368371824751903 0.93683718247519\n",
      "0.9380364686924157 0.9380364686924154\n",
      "0.9392243109717485 0.9392243109717482\n",
      "0.9403977661939812 0.9403977661939809\n",
      "0.9415533556084112 0.9415533556084109\n",
      "0.9426923021426971 0.9426923021426967\n",
      "0.9438144483348508 0.9438144483348505\n",
      "0.9449334611192055 0.9449334611192052\n",
      "0.9460466570950898 0.9460466570950895\n",
      "0.9471420643914857 0.9471420643914854\n",
      "0.9482173723178066 0.9482173723178062\n",
      "0.949288735411012 0.9492887354110117\n",
      "0.9503467080026974 0.950346708002697\n",
      "0.9513821210594843 0.9513821210594839\n",
      "0.9524064971806676 0.9524064971806673\n",
      "0.9534191632548269 0.9534191632548266\n",
      "0.9544126134787969 0.9544126134787966\n",
      "0.9553993085749454 0.955399308574945\n",
      "0.9563742788605163 0.956374278860516\n",
      "0.9573433821964009 0.9573433821964006\n",
      "0.9582986525468508 0.9582986525468504\n",
      "0.959245372626013 0.9592453726260126\n",
      "0.9601813551102529 0.9601813551102526\n",
      "0.961113669759368 0.9611136697593676\n",
      "0.9620353781878799 0.9620353781878795\n",
      "0.962945027212083 0.9629450272120826\n",
      "0.9638337632960868 0.9638337632960865\n",
      "0.9647171234823451 0.9647171234823447\n",
      "0.9655953258847918 0.9655953258847915\n",
      "0.9664636847096082 0.9664636847096079\n",
      "0.9673169447237012 0.9673169447237009\n",
      "0.9681645378627163 0.968164537862716\n",
      "0.968998457092801 0.9689984570928006\n",
      "0.969824241561333 0.9698242415613326\n",
      "0.9706322073548477 0.9706322073548473\n",
      "0.9714235274084032 0.9714235274084029\n",
      "0.9722011069143702 0.9722011069143699\n",
      "0.9729718461567697 0.9729718461567693\n",
      "0.9737326751907064 0.973732675190706\n",
      "0.9744850582437341 0.9744850582437338\n",
      "0.9752332663369238 0.9752332663369234\n",
      "0.9759751155789734 0.9759751155789731\n",
      "0.9767054711735805 0.9767054711735802\n",
      "0.9774286528744781 0.9774286528744778\n",
      "0.9781438807302903 0.97814388073029\n",
      "0.9788505613518999 0.9788505613518995\n",
      "0.9795483290481507 0.9795483290481504\n",
      "0.9802307054839177 0.9802307054839173\n",
      "0.9809113997677231 0.9809113997677228\n",
      "0.9815829445059352 0.9815829445059349\n",
      "0.9822451860865018 0.9822451860865015\n",
      "0.9828894298398099 0.9828894298398095\n",
      "0.9835311885719529 0.9835311885719525\n",
      "0.9841686004169806 0.9841686004169804\n",
      "0.9847949586328194 0.9847949586328192\n",
      "0.9854152985107834 0.9854152985107831\n",
      "0.9860253513180883 0.9860253513180881\n",
      "0.9866295823362328 0.9866295823362325\n",
      "0.9872286520117961 0.9872286520117959\n",
      "0.9878134855894645 0.9878134855894642\n",
      "0.9883898798107768 0.9883898798107765\n",
      "0.988959236103723 0.9889592361037228\n",
      "0.9895235181624641 0.9895235181624639\n",
      "0.9900694512478719 0.9900694512478717\n",
      "0.9906093166861307 0.9906093166861305\n",
      "0.9911426298583508 0.9911426298583506\n",
      "0.9916623789525824 0.9916623789525821\n",
      "0.9921702588125938 0.9921702588125936\n",
      "0.9926585323697941 0.9926585323697938\n",
      "0.9931438501457436 0.9931438501457434\n",
      "0.9936212863799652 0.9936212863799649\n",
      "0.9940945342718718 0.9940945342718716\n",
      "0.9945577333178022 0.994557733317802\n",
      "0.9950187944518087 0.9950187944518085\n",
      "0.9954710727433885 0.9954710727433883\n",
      "0.9959129568317759 0.9959129568317757\n",
      "0.9963389850730032 0.996338985073003\n",
      "0.996753904660949 0.9967539046609488\n",
      "0.9971585295395708 0.9971585295395706\n",
      "0.997546669382437 0.9975466693824367\n",
      "0.9979160737191028 0.9979160737191026\n",
      "0.9982668162334889 0.9982668162334887\n",
      "0.9986038453360516 0.9986038453360514\n",
      "0.9989279716550952 0.998927971655095\n",
      "0.9992464860140448 0.9992464860140445\n",
      "0.999538031450824 0.9995380314508238\n",
      "0.999796568010082 0.9997965680100818\n",
      "0.9999999999999992 0.999999999999999\n",
      "0.9999999999999992 0.999999999999999\n"
     ]
    }
   ],
   "source": [
    "print(\"cumulative variance explained by components\")\n",
    "print('Full           vs         Randomized')\n",
    "print('------------------------------------')\n",
    "for x, y in zip(np.cumsum(pca_orig_components.explained_variance_ratio_), np.cumsum(pca_randomized.explained_variance_ratio_)):\n",
    "    print(x, y)"
   ]
  },
  {
   "attachments": {},
   "cell_type": "markdown",
   "id": "383438fe",
   "metadata": {},
   "source": [
    "<span style=\"color:red\">\n",
    "[1 points] Perform feature extraction upon the images using DAISY. Try different parameters for your image data.\n",
    "</span>"
   ]
  },
  {
   "cell_type": "code",
   "execution_count": 138,
   "id": "fe5f6cb4",
   "metadata": {},
   "outputs": [
    {
     "name": "stdout",
     "output_type": "stream",
     "text": [
      "(3, 3, 68)\n",
      "612\n",
      "CPU times: user 1e+03 ns, sys: 0 ns, total: 1e+03 ns\n",
      "Wall time: 7.15 µs\n"
     ]
    },
    {
     "data": {
      "image/png": "[encoded data removed]",
      "text/plain": [
       "<Figure size 640x480 with 1 Axes>"
      ]
     },
     "metadata": {},
     "output_type": "display_data"
    }
   ],
   "source": [
    "# lets first visualize what the daisy descriptor looks like\n",
    "arr_img = img_1_arr.reshape(IMG_SIZE, IMG_SIZE)\n",
    "features, img_desc = daisy(arr_img, \n",
    "                           step=20, \n",
    "                           radius=20, \n",
    "                           rings=2, \n",
    "                           histograms=8, \n",
    "                           orientations=8, \n",
    "                           visualize=True)\n",
    "imshow(img_desc)\n",
    "plt.grid(False)\n",
    "\n",
    "features = daisy(arr_img, step=20, radius=20, rings=2, histograms=8, orientations=4, visualize=False)\n",
    "print(features.shape)\n",
    "print(features.shape[0]*features.shape[1]*features.shape[2])\n",
    "\n",
    "# create a function to take in the row of the matrix and return a new feature\n",
    "def apply_daisy(row,shape):\n",
    "    feat = daisy(row.reshape(shape), step=20, radius=20, \n",
    "                 rings=2, histograms=8, orientations=4, \n",
    "                 visualize=False)\n",
    "    return feat.reshape((-1, 1))\n",
    "\n",
    "%time\n",
    "# test_feature = apply_daisy(df[3],(IMG_SIZE,IMG_SIZE))\n",
    "# test_feature.shape"
   ]
  },
  {
   "attachments": {},
   "cell_type": "markdown",
   "id": "77ba1061",
   "metadata": {},
   "source": [
    "<span style=\"color:red\">\n",
    "[2 points] Does this feature extraction method show promise for your prediction task? Why?\n",
    "</span>"
   ]
  },
  {
   "cell_type": "code",
   "execution_count": null,
   "id": "d2ef8e7d",
   "metadata": {},
   "outputs": [],
   "source": []
  },
  {
   "attachments": {},
   "cell_type": "markdown",
   "id": "4ebf21ae",
   "metadata": {},
   "source": [
    "<span style=\"color:red\">\n",
    "* Use visualizations to analyze this questions. For example, use a heat map of the pairwise differences (ordered by class) among all extracted features. Another option, build a nearest neighbor classifier to see actual classification performance.  \n",
    "</span>"
   ]
  },
  {
   "cell_type": "code",
   "execution_count": null,
   "id": "e6f77635",
   "metadata": {},
   "outputs": [],
   "source": []
  },
  {
   "attachments": {},
   "cell_type": "markdown",
   "id": "aaeeb861",
   "metadata": {},
   "source": [
    "# Exceptional Work (1 points total)\n",
    "<span style=\"color:red\">\n",
    "(0.4) The overall quality of the report as a coherent, useful, and polished product will be reflected here. Does it make sense overall? Do your visualizations answer the questions you put forth in your business analysis? Do you properly and consistently cite sources and annotate changes made to base code? Do you provide specific reasons for your assumptions? Do subsequent questions follow naturally from initial exploration?\n",
    "</span>\n"
   ]
  },
  {
   "cell_type": "code",
   "execution_count": null,
   "id": "c1a1a8df",
   "metadata": {},
   "outputs": [],
   "source": []
  },
  {
   "attachments": {},
   "cell_type": "markdown",
   "id": "4a33316c",
   "metadata": {},
   "source": [
    "<span style=\"color:red\">\n",
    "(0.6) Additional analysis\n",
    "(5000 level) You have free rein to provide any additional analyses and visualizations appropriate to your data.\n",
    "</span>"
   ]
  },
  {
   "cell_type": "code",
   "execution_count": null,
   "id": "8ae717a0",
   "metadata": {},
   "outputs": [],
   "source": []
  }
 ],
 "metadata": {
  "kernelspec": {
   "display_name": "Python 3",
   "language": "python",
   "name": "python3"
  },
  "language_info": {
   "codemirror_mode": {
    "name": "ipython",
    "version": 3
   },
   "file_extension": ".py",
   "mimetype": "text/x-python",
   "name": "python",
   "nbconvert_exporter": "python",
   "pygments_lexer": "ipython3",
   "version": "3.10.6"
  },
  "vscode": {
   "interpreter": {
    "hash": "38cca0c38332a56087b24af0bc80247f4fced29cb4f7f437d91dc159adec9c4e"
   }
  }
 },
 "nbformat": 4,
 "nbformat_minor": 5
}
